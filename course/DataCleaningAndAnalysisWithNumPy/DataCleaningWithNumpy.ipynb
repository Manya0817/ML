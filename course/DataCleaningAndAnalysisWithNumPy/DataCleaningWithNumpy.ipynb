{
 "cells": [
  {
   "cell_type": "code",
   "execution_count": 1,
   "id": "a22676ec-5421-436b-9f1f-d8cb74da3ead",
   "metadata": {},
   "outputs": [],
   "source": [
    "import numpy as np"
   ]
  },
  {
   "cell_type": "markdown",
   "id": "40d8f88e-eaf3-4a6b-9f11-b2fb32f8c555",
   "metadata": {},
   "source": [
    "# 1. Masking with Boolean Arrays"
   ]
  },
  {
   "cell_type": "code",
   "execution_count": 2,
   "id": "c5102715-0fb3-4e64-be52-c8ed8c3bda74",
   "metadata": {},
   "outputs": [
    {
     "data": {
      "text/plain": [
       "array([False, False,  True, False, False,  True])"
      ]
     },
     "execution_count": 2,
     "metadata": {},
     "output_type": "execute_result"
    }
   ],
   "source": [
    "arr=np.array([1,2,np.nan,4,5,np.nan])\n",
    "np.isnan(arr)"
   ]
  },
  {
   "cell_type": "markdown",
   "id": "f65fbe5a-5a23-4870-9243-f8f6897e8510",
   "metadata": {},
   "source": [
    "# 2. Replacing outliers with a specific value"
   ]
  },
  {
   "cell_type": "code",
   "execution_count": 3,
   "id": "fdeb66aa-036d-4a24-9461-9f9a8191b51a",
   "metadata": {},
   "outputs": [
    {
     "name": "stdout",
     "output_type": "stream",
     "text": [
      "[3 3 3 4 5 6 7 7 7]\n"
     ]
    }
   ],
   "source": [
    "arr=np.array([1,2,3,4,5,6,7,8,9])\n",
    "arr[arr>7]=7\n",
    "arr[arr<3]=3\n",
    "print(arr)"
   ]
  },
  {
   "cell_type": "markdown",
   "id": "f1e28f09-b329-42d5-b346-532970c96be9",
   "metadata": {},
   "source": [
    "# 3. Removing duplicates "
   ]
  },
  {
   "cell_type": "code",
   "execution_count": 5,
   "id": "8debde69-0bcb-4bce-beda-d407f0649266",
   "metadata": {},
   "outputs": [
    {
     "name": "stdout",
     "output_type": "stream",
     "text": [
      "[ 1  2  2  2  3  3  4  5  6  7  8  9  9 10]\n",
      "[ 1  2  3  4  5  6  7  8  9 10]\n",
      "{1, 2, 3, 4, 5, 6, 7, 8, 9, 10}\n"
     ]
    }
   ],
   "source": [
    "arr=np.array([1,2,2,2,3,3,4,5,6,7,8,9,9,10])\n",
    "print(arr)\n",
    "\n",
    "unique_arr=np.unique(arr)\n",
    "print(unique_arr)\n",
    "\n",
    "print(set(arr))"
   ]
  },
  {
   "cell_type": "markdown",
   "id": "3057dd79-03b1-4924-930a-15e187505812",
   "metadata": {},
   "source": [
    "# 4. Categorical data to One Hot Encoding"
   ]
  },
  {
   "cell_type": "code",
   "execution_count": 8,
   "id": "cb9ba578-fb5a-4ad2-9310-9513e9ca2d50",
   "metadata": {},
   "outputs": [
    {
     "name": "stdout",
     "output_type": "stream",
     "text": [
      "['A' 'B' 'C' 'D' 'E']\n",
      "[[1. 0. 0. 0. 0.]\n",
      " [0. 1. 0. 0. 0.]\n",
      " [0. 0. 1. 0. 0.]\n",
      " [0. 0. 0. 1. 0.]\n",
      " [0. 0. 0. 0. 1.]]\n"
     ]
    }
   ],
   "source": [
    "categorical_arr=np.array(['A','B','C','D','E'])\n",
    "numerical_arr=np.array([0,1,2,3,4])\n",
    "print(categorical_arr)\n",
    "\n",
    "one_hot_arr=np.eye(5)[numerical_arr]\n",
    "print(one_hot_arr)"
   ]
  },
  {
   "cell_type": "markdown",
   "id": "24c785b0-d3fc-4e20-83c7-31e4c54b02a8",
   "metadata": {},
   "source": [
    "# 5. Data Normalization"
   ]
  },
  {
   "cell_type": "code",
   "execution_count": 10,
   "id": "c65ac6a7-262d-4938-8938-6b1bfc20f720",
   "metadata": {},
   "outputs": [
    {
     "name": "stdout",
     "output_type": "stream",
     "text": [
      "[0.00000000e+00 1.00000000e+00 1.00000050e-06 7.50000375e-07\n",
      " 3.50000175e-06]\n"
     ]
    }
   ],
   "source": [
    "arr=np.array([10,20000000,30,25,80])\n",
    "normalized_arr=(arr-arr.min())/(arr.max()-arr.min())\n",
    "print(normalized_arr)"
   ]
  },
  {
   "cell_type": "code",
   "execution_count": null,
   "id": "ed5c63b2-e7e6-489d-b079-abc47fed2894",
   "metadata": {},
   "outputs": [],
   "source": []
  }
 ],
 "metadata": {
  "kernelspec": {
   "display_name": "Python 3 (ipykernel)",
   "language": "python",
   "name": "python3"
  },
  "language_info": {
   "codemirror_mode": {
    "name": "ipython",
    "version": 3
   },
   "file_extension": ".py",
   "mimetype": "text/x-python",
   "name": "python",
   "nbconvert_exporter": "python",
   "pygments_lexer": "ipython3",
   "version": "3.11.7"
  }
 },
 "nbformat": 4,
 "nbformat_minor": 5
}
