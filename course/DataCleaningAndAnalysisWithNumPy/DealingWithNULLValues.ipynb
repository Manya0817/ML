{
 "cells": [
  {
   "cell_type": "markdown",
   "id": "12245e4d-c45d-4796-9384-59ace57c93d8",
   "metadata": {},
   "source": [
    "# Dealing with NULL values"
   ]
  },
  {
   "cell_type": "markdown",
   "id": "97a95e6c-e581-46d4-a376-719788d58933",
   "metadata": {},
   "source": [
    "**1. None to np.nan**"
   ]
  },
  {
   "cell_type": "code",
   "execution_count": 10,
   "id": "5e45676d-c241-4d30-9ecb-12987ed538fd",
   "metadata": {},
   "outputs": [
    {
     "data": {
      "text/plain": [
       "array([1, 2, 3, None, 4, 5, None], dtype=object)"
      ]
     },
     "execution_count": 10,
     "metadata": {},
     "output_type": "execute_result"
    }
   ],
   "source": [
    "import numpy as np\n",
    "arr=np.array([1,2,3,None,4,5,None])\n",
    "arr\n",
    "\n",
    "# arr[arr==None]=np.nan\n",
    "# print(arr)"
   ]
  },
  {
   "cell_type": "code",
   "execution_count": 11,
   "id": "355581f3-f2ad-4bad-a542-4b25b6a4a3b5",
   "metadata": {},
   "outputs": [
    {
     "data": {
      "text/plain": [
       "array([False, False, False,  True, False, False,  True])"
      ]
     },
     "execution_count": 11,
     "metadata": {},
     "output_type": "execute_result"
    }
   ],
   "source": [
    "arr==None"
   ]
  },
  {
   "cell_type": "markdown",
   "id": "7010c1ba-4b3f-4035-98df-663f1d5153b3",
   "metadata": {},
   "source": [
    "**2. Checking the NULL values**"
   ]
  },
  {
   "cell_type": "code",
   "execution_count": 16,
   "id": "9927fe3f-d63a-4f15-b19b-3aa927e4469c",
   "metadata": {},
   "outputs": [
    {
     "name": "stdout",
     "output_type": "stream",
     "text": [
      "[False False False  True False False  True]\n"
     ]
    }
   ],
   "source": [
    "arr=np.array([1,2,3,np.nan,4,5,np.nan])\n",
    "print(np.isnan(arr))"
   ]
  },
  {
   "cell_type": "markdown",
   "id": "78f8a3f9-57a1-4831-838b-8a3512515298",
   "metadata": {},
   "source": [
    "**3. Removing the NULL values**"
   ]
  },
  {
   "cell_type": "code",
   "execution_count": 17,
   "id": "4e3bb5b9-fa16-44f8-967e-7b36ec77f909",
   "metadata": {},
   "outputs": [
    {
     "name": "stdout",
     "output_type": "stream",
     "text": [
      "[False False False  True False False  True]\n",
      "[nan nan]\n",
      "[ True  True  True False  True  True False]\n",
      "[1. 2. 3. 4. 5.]\n"
     ]
    }
   ],
   "source": [
    "arr=np.array([1,2,3,np.nan,4,5,np.nan])\n",
    "print(np.isnan(arr))\n",
    "print(arr[np.isnan(arr)])\n",
    "print(~np.isnan(arr))\n",
    "print(arr[~np.isnan(arr)])"
   ]
  },
  {
   "cell_type": "markdown",
   "id": "608fdd6f-66a8-4b92-9d9b-fb326c2c46e2",
   "metadata": {},
   "source": [
    "**4. Filling null with fixed values**"
   ]
  },
  {
   "cell_type": "code",
   "execution_count": 18,
   "id": "572f87a5-10a9-4103-9e35-23a3df1fea82",
   "metadata": {},
   "outputs": [
    {
     "name": "stdout",
     "output_type": "stream",
     "text": [
      "[1. 2. 3. 0. 4. 5. 0.]\n"
     ]
    }
   ],
   "source": [
    "arr=np.array([1,2,3,np.nan,4,5,np.nan])\n",
    "arr[np.isnan(arr)]=0\n",
    "print(arr)"
   ]
  },
  {
   "cell_type": "markdown",
   "id": "93935b37-666c-46e0-bdbc-0a4025e3a6ae",
   "metadata": {},
   "source": [
    "**5. Filling the null with average**"
   ]
  },
  {
   "cell_type": "code",
   "execution_count": 21,
   "id": "30711cc9-82ab-4a4f-8ceb-2dcabfefe5bb",
   "metadata": {},
   "outputs": [
    {
     "name": "stdout",
     "output_type": "stream",
     "text": [
      "[ 1.  2.  3. nan  4.  5. nan]\n",
      "3.0\n",
      "[1. 2. 3. 3. 4. 5. 3.]\n"
     ]
    }
   ],
   "source": [
    "arr=np.array([1,2,3,np.nan,4,5,np.nan])\n",
    "print(arr)\n",
    "print(np.nanmean(arr))\n",
    "arr[np.isnan(arr)]=np.nanmean(arr)\n",
    "print(arr)"
   ]
  },
  {
   "cell_type": "code",
   "execution_count": null,
   "id": "198d30ad-40d5-442d-93f4-e322595403d3",
   "metadata": {},
   "outputs": [],
   "source": []
  }
 ],
 "metadata": {
  "kernelspec": {
   "display_name": "Python 3 (ipykernel)",
   "language": "python",
   "name": "python3"
  },
  "language_info": {
   "codemirror_mode": {
    "name": "ipython",
    "version": 3
   },
   "file_extension": ".py",
   "mimetype": "text/x-python",
   "name": "python",
   "nbconvert_exporter": "python",
   "pygments_lexer": "ipython3",
   "version": "3.11.7"
  }
 },
 "nbformat": 4,
 "nbformat_minor": 5
}
