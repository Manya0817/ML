{
 "cells": [
  {
   "cell_type": "code",
   "execution_count": 1,
   "id": "47e6c5bf-e2be-4512-a438-4b961bca20d0",
   "metadata": {},
   "outputs": [],
   "source": [
    "import numpy as np"
   ]
  },
  {
   "cell_type": "code",
   "execution_count": 5,
   "id": "6426416f-1ae1-4b9a-8d81-24a3f31d2dcb",
   "metadata": {},
   "outputs": [
    {
     "name": "stdout",
     "output_type": "stream",
     "text": [
      "Mean : 49.09\n",
      "Median : 50.0\n",
      "Variance : 795.3219000000001\n",
      "Standard : 28.20145209027365\n",
      "Q1 : 24.0\n",
      "Q2 : 50.0\n",
      "Q3 : 71.5\n",
      "IQR : 47.5\n",
      "Skewness : 0.061688796552319736\n",
      "Kurtosis : 1.8178520887656677\n"
     ]
    }
   ],
   "source": [
    "arr=np.random.randint(low=1,high=101,size=100)\n",
    "\n",
    "mean=np.mean(arr)\n",
    "median=np.median(arr)\n",
    "#mode=np.mode(arr)\n",
    "\n",
    "variance=np.var(arr)\n",
    "std_dev=np.std(arr)\n",
    "\n",
    "q1=np.percentile(arr,25)\n",
    "q2=np.percentile(arr,50)\n",
    "q3=np.percentile(arr,75)\n",
    "\n",
    "iqr=q3-q1\n",
    "\n",
    "skewness=np.mean((arr-mean)**3)/(std_dev**3)\n",
    "kurtosis=np.mean((arr-mean)**4)/(std_dev**4)\n",
    "print('Mean :',mean)\n",
    "print('Median :',median)\n",
    "#print('Mode :',mode)\n",
    "\n",
    "print('Variance :',variance)\n",
    "print('Standard :',std_dev)\n",
    "\n",
    "print('Q1 :',q1)\n",
    "print('Q2 :',q2)\n",
    "print('Q3 :',q3)\n",
    "\n",
    "print('IQR :',iqr)\n",
    "print('Skewness :',skewness)\n",
    "print('Kurtosis :',kurtosis)"
   ]
  },
  {
   "cell_type": "code",
   "execution_count": null,
   "id": "9210d05a-ed23-4c2a-b904-573534415212",
   "metadata": {},
   "outputs": [],
   "source": []
  }
 ],
 "metadata": {
  "kernelspec": {
   "display_name": "Python 3 (ipykernel)",
   "language": "python",
   "name": "python3"
  },
  "language_info": {
   "codemirror_mode": {
    "name": "ipython",
    "version": 3
   },
   "file_extension": ".py",
   "mimetype": "text/x-python",
   "name": "python",
   "nbconvert_exporter": "python",
   "pygments_lexer": "ipython3",
   "version": "3.11.7"
  }
 },
 "nbformat": 4,
 "nbformat_minor": 5
}
