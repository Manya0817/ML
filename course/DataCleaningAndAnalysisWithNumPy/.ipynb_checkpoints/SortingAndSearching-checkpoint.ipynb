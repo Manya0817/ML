{
 "cells": [
  {
   "cell_type": "code",
   "execution_count": 1,
   "id": "9e9de9ca-db6f-4a3e-a485-4a86cc04c33e",
   "metadata": {},
   "outputs": [],
   "source": [
    "import numpy as np"
   ]
  },
  {
   "cell_type": "markdown",
   "id": "5c20a46d-8d20-4097-9c3b-1c69e0661f68",
   "metadata": {},
   "source": [
    "# 1. Searching"
   ]
  },
  {
   "cell_type": "code",
   "execution_count": 5,
   "id": "06860d56-1a97-4318-b3d2-b3e492b85f2f",
   "metadata": {},
   "outputs": [
    {
     "name": "stdout",
     "output_type": "stream",
     "text": [
      "[1 4 8]\n",
      "1\n",
      "10\n"
     ]
    }
   ],
   "source": [
    "arr=np.array([1,3,4,6,3,5,7,4,3,5,12,13])\n",
    "\n",
    "#linear search\n",
    "\n",
    "index=np.where(arr==3)[0]\n",
    "print(index)\n",
    "\n",
    "#binary search\n",
    "\n",
    "index=np.searchsorted(arr,3)\n",
    "print(index)\n",
    "\n",
    "#searching for closest value\n",
    "\n",
    "index=np.argmin(abs(arr-11))\n",
    "print(index)"
   ]
  },
  {
   "cell_type": "markdown",
   "id": "a715e80f-0aee-4280-bb85-bb3d9b7c5b22",
   "metadata": {},
   "source": [
    "# 2. Sorting"
   ]
  },
  {
   "cell_type": "code",
   "execution_count": 10,
   "id": "e5ba0c56-6051-4e28-92b4-1ba7f31a6f81",
   "metadata": {},
   "outputs": [
    {
     "name": "stdout",
     "output_type": "stream",
     "text": [
      "[0 1 2 3 4 5 6 7 8 9]\n",
      "[0 1 2 3 4 5 6 7 8 9]\n",
      "[0 1 2 3 4 5 6 7 8 9]\n",
      "[0 1 2 3 4 5 6 7 8 9]\n"
     ]
    }
   ],
   "source": [
    "arr=np.array([5,7,9,0,3,1,6,2,4,8])\n",
    "\n",
    "#by default its using Quick Sort\n",
    "\n",
    "sorted_arr=np.sort(arr)\n",
    "print(sorted_arr)\n",
    "\n",
    "#quicksort\n",
    "\n",
    "sorted_arr=np.sort(arr,kind='quicksort')\n",
    "print(sorted_arr)\n",
    "\n",
    "#heapsort\n",
    "\n",
    "sorted_arr=np.sort(arr,kind='heapsort')\n",
    "print(sorted_arr)\n",
    "\n",
    "#quicksort\n",
    "\n",
    "sorted_arr=np.sort(arr,kind='mergesort')\n",
    "print(sorted_arr)\n"
   ]
  },
  {
   "cell_type": "code",
   "execution_count": null,
   "id": "92f9103c-eec9-481c-9310-3a01960cd71d",
   "metadata": {},
   "outputs": [],
   "source": []
  }
 ],
 "metadata": {
  "kernelspec": {
   "display_name": "Python 3 (ipykernel)",
   "language": "python",
   "name": "python3"
  },
  "language_info": {
   "codemirror_mode": {
    "name": "ipython",
    "version": 3
   },
   "file_extension": ".py",
   "mimetype": "text/x-python",
   "name": "python",
   "nbconvert_exporter": "python",
   "pygments_lexer": "ipython3",
   "version": "3.11.7"
  }
 },
 "nbformat": 4,
 "nbformat_minor": 5
}
