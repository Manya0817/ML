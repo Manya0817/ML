{
 "cells": [
  {
   "cell_type": "code",
   "execution_count": 1,
   "id": "5cad56ca-1b95-4cad-a7e0-731534ba8774",
   "metadata": {},
   "outputs": [],
   "source": [
    "import numpy as np"
   ]
  },
  {
   "cell_type": "code",
   "execution_count": 3,
   "id": "921b72ae-516f-4a3b-b74d-eb0ac994417e",
   "metadata": {},
   "outputs": [
    {
     "data": {
      "text/plain": [
       "array([[ 7,  4,  1,  4,  5],\n",
       "       [ 9,  3,  2,  1,  1],\n",
       "       [ 8,  4,  3, 10,  5],\n",
       "       [ 8,  5,  1,  7,  4],\n",
       "       [ 5,  7,  4,  8,  7]])"
      ]
     },
     "execution_count": 3,
     "metadata": {},
     "output_type": "execute_result"
    }
   ],
   "source": [
    "arr=np.random.randint(1,11,size=(5,5))\n",
    "arr"
   ]
  },
  {
   "cell_type": "markdown",
   "id": "c81d1706-9d5d-4648-bfb3-0c51f7075394",
   "metadata": {},
   "source": [
    "# 1.Filtering"
   ]
  },
  {
   "cell_type": "markdown",
   "id": "451abeec-42f6-40e4-b3a4-7c34122ca2e3",
   "metadata": {},
   "source": [
    "**1.1) Filter elements greater than 5**"
   ]
  },
  {
   "cell_type": "code",
   "execution_count": 4,
   "id": "e41fae61-5829-47fc-9464-e220f4f8691d",
   "metadata": {},
   "outputs": [
    {
     "data": {
      "text/plain": [
       "array([ 7,  9,  8, 10,  8,  7,  7,  8,  7])"
      ]
     },
     "execution_count": 4,
     "metadata": {},
     "output_type": "execute_result"
    }
   ],
   "source": [
    "arr[arr>5]"
   ]
  },
  {
   "cell_type": "markdown",
   "id": "17d46e65-9e4e-4a0c-9f96-1844d9ba65b7",
   "metadata": {},
   "source": [
    "**1.2) Filter the elements that are even**"
   ]
  },
  {
   "cell_type": "code",
   "execution_count": 8,
   "id": "f8578c87-191d-42c9-a2c4-d0579cecaf84",
   "metadata": {},
   "outputs": [
    {
     "data": {
      "text/plain": [
       "array([ 4,  4,  2,  8,  4, 10,  8,  4,  4,  8])"
      ]
     },
     "execution_count": 8,
     "metadata": {},
     "output_type": "execute_result"
    }
   ],
   "source": [
    "arr[arr%2==0]"
   ]
  },
  {
   "cell_type": "code",
   "execution_count": 9,
   "id": "47b8dc42-81b9-46de-bc39-8cd1bf116293",
   "metadata": {},
   "outputs": [
    {
     "data": {
      "text/plain": [
       "array([[ True, False, False, False, False],\n",
       "       [ True, False, False, False, False],\n",
       "       [ True, False, False,  True, False],\n",
       "       [ True, False, False,  True, False],\n",
       "       [False,  True, False,  True,  True]])"
      ]
     },
     "execution_count": 9,
     "metadata": {},
     "output_type": "execute_result"
    }
   ],
   "source": [
    "arr>5"
   ]
  },
  {
   "cell_type": "code",
   "execution_count": 11,
   "id": "cf164c3f-575a-4ac7-979f-2bcd55cc1309",
   "metadata": {},
   "outputs": [
    {
     "data": {
      "text/plain": [
       "array([[False, False, False, False, False],\n",
       "       [False, False, False, False, False],\n",
       "       [ True, False, False,  True, False],\n",
       "       [ True, False, False, False, False],\n",
       "       [False, False, False,  True, False]])"
      ]
     },
     "execution_count": 11,
     "metadata": {},
     "output_type": "execute_result"
    }
   ],
   "source": [
    "(arr>5) & (arr%2==0)"
   ]
  },
  {
   "cell_type": "markdown",
   "id": "a7cdfe6c-e431-4dd4-a5bc-3e350b1d7858",
   "metadata": {},
   "source": [
    "**1.4) Filter the elements that are divisible by either 3 or 7**"
   ]
  },
  {
   "cell_type": "code",
   "execution_count": 14,
   "id": "5bc31121-982c-4076-b02f-cc81fc63f980",
   "metadata": {},
   "outputs": [
    {
     "data": {
      "text/plain": [
       "array([7, 9, 3, 3, 7, 7, 7])"
      ]
     },
     "execution_count": 14,
     "metadata": {},
     "output_type": "execute_result"
    }
   ],
   "source": [
    "arr[(arr%3==0) | (arr%7==0)]"
   ]
  },
  {
   "cell_type": "markdown",
   "id": "07abac37-809d-42fc-9a79-ec28a2121118",
   "metadata": {},
   "source": [
    "**1.5) Filter elements that based on condition on another array**"
   ]
  },
  {
   "cell_type": "code",
   "execution_count": 15,
   "id": "2672a4dc-bbfd-4a49-92e4-aa852fa6ccc2",
   "metadata": {},
   "outputs": [
    {
     "data": {
      "text/plain": [
       "array([[ 7,  4,  1,  4,  5],\n",
       "       [ 8,  4,  3, 10,  5],\n",
       "       [ 5,  7,  4,  8,  7]])"
      ]
     },
     "execution_count": 15,
     "metadata": {},
     "output_type": "execute_result"
    }
   ],
   "source": [
    "arr1=np.array([True,False,True,False,True])\n",
    "arr[arr1]"
   ]
  },
  {
   "cell_type": "code",
   "execution_count": 16,
   "id": "827d0234-bc89-498b-bdc6-97b58014252d",
   "metadata": {},
   "outputs": [
    {
     "data": {
      "text/plain": [
       "array([[ 7,  4,  1,  4,  5],\n",
       "       [ 9,  3,  2,  1,  1],\n",
       "       [ 8,  4,  3, 10,  5],\n",
       "       [ 8,  5,  1,  7,  4],\n",
       "       [ 5,  7,  4,  8,  7]])"
      ]
     },
     "execution_count": 16,
     "metadata": {},
     "output_type": "execute_result"
    }
   ],
   "source": [
    "arr"
   ]
  },
  {
   "cell_type": "markdown",
   "id": "55b98416-c91f-4cd7-89b3-63bb1e24dc31",
   "metadata": {},
   "source": [
    "**1.6 Filter the elements that based on the another array**"
   ]
  },
  {
   "cell_type": "code",
   "execution_count": 17,
   "id": "96539ea6-8299-4c2d-905c-73f4a15677b2",
   "metadata": {},
   "outputs": [
    {
     "data": {
      "text/plain": [
       "array([[ 7,  4,  1,  4,  5],\n",
       "       [ 9,  3,  2,  1,  1],\n",
       "       [ 8,  4,  3, 10,  5],\n",
       "       [ 8,  5,  1,  7,  4],\n",
       "       [ 5,  7,  4,  8,  7]])"
      ]
     },
     "execution_count": 17,
     "metadata": {},
     "output_type": "execute_result"
    }
   ],
   "source": [
    "arr"
   ]
  },
  {
   "cell_type": "code",
   "execution_count": 18,
   "id": "001fa07b-3683-467c-a061-e1bda0978c00",
   "metadata": {},
   "outputs": [
    {
     "data": {
      "text/plain": [
       "array([ 8,  4,  3, 10,  5])"
      ]
     },
     "execution_count": 18,
     "metadata": {},
     "output_type": "execute_result"
    }
   ],
   "source": [
    "arr[2]"
   ]
  },
  {
   "cell_type": "code",
   "execution_count": 19,
   "id": "e16a9b0c-2db4-409b-aa19-d4009d60fca8",
   "metadata": {},
   "outputs": [
    {
     "data": {
      "text/plain": [
       "array([ 4,  3, 10,  5])"
      ]
     },
     "execution_count": 19,
     "metadata": {},
     "output_type": "execute_result"
    }
   ],
   "source": [
    "arr[2,1:]"
   ]
  },
  {
   "cell_type": "code",
   "execution_count": 20,
   "id": "74d91549-9892-4b51-aec5-472b2a7c5a59",
   "metadata": {},
   "outputs": [
    {
     "data": {
      "text/plain": [
       "array([ True, False, False,  True, False])"
      ]
     },
     "execution_count": 20,
     "metadata": {},
     "output_type": "execute_result"
    }
   ],
   "source": [
    "arr[2,:]>5"
   ]
  },
  {
   "cell_type": "code",
   "execution_count": 25,
   "id": "ab6d2553-96ff-4e99-8a3c-4e2b4d104e01",
   "metadata": {},
   "outputs": [
    {
     "data": {
      "text/plain": [
       "array([[7, 4, 1, 4, 5],\n",
       "       [8, 5, 1, 7, 4]])"
      ]
     },
     "execution_count": 25,
     "metadata": {},
     "output_type": "execute_result"
    }
   ],
   "source": [
    "arr[arr[2,:]>5]"
   ]
  },
  {
   "cell_type": "markdown",
   "id": "60d14db3-c09b-41db-ab63-a8ad89033c62",
   "metadata": {},
   "source": [
    "# 2.Aggregate Functions"
   ]
  },
  {
   "cell_type": "markdown",
   "id": "d1b5b8c3-8a76-4426-9699-124be5f557bf",
   "metadata": {},
   "source": [
    "**2.1 Sum**"
   ]
  },
  {
   "cell_type": "code",
   "execution_count": 26,
   "id": "55704345-d4a5-4491-bd47-38ee41b3dbca",
   "metadata": {},
   "outputs": [
    {
     "name": "stdout",
     "output_type": "stream",
     "text": [
      "15\n",
      "--------------------\n",
      "21\n",
      "[5 7 9]\n",
      "[ 6 15]\n"
     ]
    }
   ],
   "source": [
    "arr=np.array([1,2,3,4,5])\n",
    "print(np.sum(arr))\n",
    "print('-'*20)\n",
    "\n",
    "arr=np.array([[1,2,3],[4,5,6]])\n",
    "print(np.sum(arr))\n",
    "print(np.sum(arr,axis=0))\n",
    "print(np.sum(arr,axis=1))"
   ]
  },
  {
   "cell_type": "markdown",
   "id": "bc8a590e-6175-452a-957b-365ddf1da68c",
   "metadata": {},
   "source": [
    "**2.2.)mean**"
   ]
  },
  {
   "cell_type": "code",
   "execution_count": 30,
   "id": "87ff32b3-4fe5-429b-b86b-3c0e783e1415",
   "metadata": {},
   "outputs": [
    {
     "name": "stdout",
     "output_type": "stream",
     "text": [
      "3.5\n",
      "[2.5 3.5 4.5]\n",
      "[2. 5.]\n"
     ]
    }
   ],
   "source": [
    "arr=np.array([[1,2,3],[4,5,6]])\n",
    "print(np.mean(arr))\n",
    "print(np.mean(arr,axis=0))\n",
    "print(np.mean(arr,axis=1))"
   ]
  },
  {
   "cell_type": "markdown",
   "id": "2d8f8a47-677e-41c0-a52b-f6520ed44501",
   "metadata": {},
   "source": [
    "**2.3 Standard deviation**"
   ]
  },
  {
   "cell_type": "code",
   "execution_count": 31,
   "id": "700562b1-ffed-4a08-bbf1-14292f132bd0",
   "metadata": {},
   "outputs": [
    {
     "name": "stdout",
     "output_type": "stream",
     "text": [
      "1.4142135623730951\n",
      "1.707825127659933\n"
     ]
    }
   ],
   "source": [
    "arr=np.array([1,2,3,4,5])\n",
    "print(np.std(arr))\n",
    "\n",
    "arr=np.array([[1,2,3],[4,5,6]])\n",
    "print(np.std(arr))"
   ]
  },
  {
   "cell_type": "markdown",
   "id": "5036ad70-22d2-43de-9860-1f5b98d30c0e",
   "metadata": {},
   "source": [
    "**2.4 min-max**"
   ]
  },
  {
   "cell_type": "code",
   "execution_count": 32,
   "id": "e70efc0a-e920-4f7d-adc5-588a8780c3cc",
   "metadata": {},
   "outputs": [
    {
     "name": "stdout",
     "output_type": "stream",
     "text": [
      "1\n",
      "1\n",
      "[2.5 3.5 4.5]\n",
      "[2. 5.]\n",
      "--------------------\n",
      "5\n",
      "6\n",
      "[4 5 6]\n",
      "[3 6]\n"
     ]
    }
   ],
   "source": [
    "arr=np.array([1,2,3,4,5])\n",
    "print(np.min(arr))\n",
    "\n",
    "arr=np.array([[1,2,3],[4,5,6]])\n",
    "print(np.min(arr))\n",
    "print(np.mean(arr,axis=0))\n",
    "print(np.mean(arr,axis=1))\n",
    "\n",
    "print('-'*20)\n",
    "\n",
    "arr=np.array([1,2,3,4,5])\n",
    "print(np.max(arr))\n",
    "\n",
    "arr=np.array([[1,2,3],[4,5,6]])\n",
    "print(np.max(arr))\n",
    "print(np.max(arr,axis=0))\n",
    "print(np.max(arr,axis=1))"
   ]
  },
  {
   "cell_type": "code",
   "execution_count": null,
   "id": "50aea117-9748-49ea-ac71-6283122dcb48",
   "metadata": {},
   "outputs": [],
   "source": []
  }
 ],
 "metadata": {
  "kernelspec": {
   "display_name": "Python 3 (ipykernel)",
   "language": "python",
   "name": "python3"
  },
  "language_info": {
   "codemirror_mode": {
    "name": "ipython",
    "version": 3
   },
   "file_extension": ".py",
   "mimetype": "text/x-python",
   "name": "python",
   "nbconvert_exporter": "python",
   "pygments_lexer": "ipython3",
   "version": "3.11.7"
  }
 },
 "nbformat": 4,
 "nbformat_minor": 5
}
