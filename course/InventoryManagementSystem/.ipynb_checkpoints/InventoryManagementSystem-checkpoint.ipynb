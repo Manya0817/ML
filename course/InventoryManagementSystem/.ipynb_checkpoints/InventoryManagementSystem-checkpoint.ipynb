{
 "cells": [
  {
   "cell_type": "markdown",
   "id": "a8ae7c7a-836f-4b2e-9227-5d474a237f93",
   "metadata": {},
   "source": [
    "# Inventory Management System"
   ]
  },
  {
   "cell_type": "markdown",
   "id": "15b70987-fe14-49f1-9ede-a3faf14c521e",
   "metadata": {},
   "source": [
    "**Product Details**\n",
    "\n",
    "1. Product ID\n",
    "2. Name of Product\n",
    "3. Price of Product\n",
    "4. Quantity"
   ]
  },
  {
   "cell_type": "code",
   "execution_count": 103,
   "id": "5994fa6d-2dce-4207-8370-59cfb4d7d67a",
   "metadata": {},
   "outputs": [
    {
     "name": "stdin",
     "output_type": "stream",
     "text": [
      "Enter your name: 3\n",
      "Enter your phone no.: 4\n",
      "Enter your mail: 2\n",
      "Enter product ID: 1\n",
      "Enter product Quantity: 2\n"
     ]
    },
    {
     "name": "stdout",
     "output_type": "stream",
     "text": [
      "********************\n",
      "Product Name : 5 Star\n",
      "Price : 5\n",
      "Quantity : 2\n",
      "Billing Amount : 10\n",
      "********************\n",
      "Inventory updated\n",
      "********************\n"
     ]
    }
   ],
   "source": [
    "#noting the time of transaction\n",
    "import time\n",
    "\n",
    "fd=open(\"Inventory.txt\",\"r\")\n",
    "products=fd.read().split('\\n')\n",
    "fd.close()\n",
    "\n",
    "#taking user input \n",
    "ui_username=input(\"Enter your name:\")\n",
    "ui_phone=input(\"Enter your phone no.:\")\n",
    "ui_mail=input(\"Enter your mail:\")\n",
    "ui_prod_id=input(\"Enter product ID:\")\n",
    "ui_prod_qn=input(\"Enter product Quantity:\")\n",
    "\n",
    "updated_product_lst=[]\n",
    "\n",
    "#going through each product detail\n",
    "\n",
    "for product in products:\n",
    "    prod_details=product.split(',')\n",
    "    \n",
    "    if(prod_details[0]==ui_prod_id):\n",
    "    #checking if product exists or not \n",
    "        \n",
    "        if(int(ui_prod_qn)<=int(prod_details[3])):\n",
    "        #If we're having enough quantity\n",
    "            \n",
    "            print('*'*20)\n",
    "            print(\"Product Name :\",prod_details[1])\n",
    "            print(\"Price :\",prod_details[2])\n",
    "            print(\"Quantity :\",ui_prod_qn)\n",
    "            print(\"Billing Amount :\",int(ui_prod_qn)*int(prod_details[2]))\n",
    "            print('*'*20)\n",
    "\n",
    "            #updating inventory list\n",
    "            prod_details[3]=str(int(prod_details[3])-int(ui_prod_qn))\n",
    "\n",
    "            #generating sales in sales.txt\n",
    "            fd=open(\"Sales.txt\",'a')\n",
    "            sales_detail=ui_username+','+ui_phone+','+ui_mail+','+ui_prod_qn+','+str(int(ui_prod_qn)*int(prod_details[2]))+','+time.ctime()+'\\n'\n",
    "            fd.write(sales_detail)\n",
    "            fd.close()\n",
    "        else:\n",
    "        #If we're not having enough quantity\n",
    "            \n",
    "            print(\"Sorry, We're not having enough quantity\")\n",
    "            print(\"We're having only\",prod_details[3],'quantity.')\n",
    "            print(\"Would you like to purchase it ?\")\n",
    "            ch=input(\"Press Y/N\")\n",
    "            if(ch=='Y' or ch=='y'):\n",
    "            #if you want to purchase with remaining quantity or not\n",
    "                \n",
    "                print('*'*20)\n",
    "                print(\"Product Name :\",prod_details[1])\n",
    "                print(\"Price :\",prod_details[2])\n",
    "                print(\"Quantity :\",prod_details[3])\n",
    "                print(\"Billing Amount :\",int(prod_details[3])*int(prod_details[2]))\n",
    "                print('*'*20)\n",
    "\n",
    "                #generating sales in sales.txt\n",
    "                fd=open(\"Sales.txt\",'a')\n",
    "                sales_detail=ui_username+','+ui_phone+','+ui_mail+','+prod_details[3]+','+str(int(prod_details[3])*int(prod_details[2]))+','+time.ctime()+'\\n'\n",
    "                fd.write(sales_detail)\n",
    "                fd.close()\n",
    "\n",
    "                #updating inventory list\n",
    "                prod_details[3]='0'\n",
    "                \n",
    "            else:\n",
    "                print('Thanks')\n",
    "\n",
    "    #updating my inventory list\n",
    "    updated_product_lst.append(prod_details)\n",
    "\n",
    "lst=[]\n",
    "\n",
    "#updating my inventory string\n",
    "for i in updated_product_lst:\n",
    "    prod=i[0]+\",\"+i[1]+\",\"+i[2]+\",\"+i[3]+'\\n'\n",
    "    lst.append(prod)\n",
    "\n",
    "#removing the last \\n from the list\n",
    "lst[-1]=lst[-1][:-1]\n",
    "\n",
    "#updating my inventory file \n",
    "fd=open(\"Inventory.txt\",'w')\n",
    "for i in lst:\n",
    "    fd.write(i)\n",
    "fd.close()\n",
    "\n",
    "print(\"Inventory updated\")\n",
    "print('*'*20)"
   ]
  },
  {
   "cell_type": "code",
   "execution_count": null,
   "id": "a529d740-08d2-43ec-afbb-982dc69a4f75",
   "metadata": {},
   "outputs": [],
   "source": []
  }
 ],
 "metadata": {
  "kernelspec": {
   "display_name": "Python 3 (ipykernel)",
   "language": "python",
   "name": "python3"
  },
  "language_info": {
   "codemirror_mode": {
    "name": "ipython",
    "version": 3
   },
   "file_extension": ".py",
   "mimetype": "text/x-python",
   "name": "python",
   "nbconvert_exporter": "python",
   "pygments_lexer": "ipython3",
   "version": "3.11.7"
  }
 },
 "nbformat": 4,
 "nbformat_minor": 5
}
