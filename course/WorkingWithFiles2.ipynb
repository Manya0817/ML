{
 "cells": [
  {
   "cell_type": "code",
   "execution_count": 1,
   "id": "f489d5b5-9d3b-41bd-aa26-3d52145ebd2c",
   "metadata": {},
   "outputs": [],
   "source": [
    "import numpy as np"
   ]
  },
  {
   "cell_type": "markdown",
   "id": "d7aff785-ceed-484e-aee1-ec480aa56354",
   "metadata": {},
   "source": [
    "#1. text file"
   ]
  },
  {
   "cell_type": "code",
   "execution_count": 3,
   "id": "459eb411-622d-483c-95b2-4e8a5a735ede",
   "metadata": {},
   "outputs": [],
   "source": [
    "arr=np.array([[1,2,3],[4,5,6]])\n",
    "np.savetxt('data.txt',arr,delimiter=',')"
   ]
  },
  {
   "cell_type": "code",
   "execution_count": 4,
   "id": "cf41ea80-42ec-4035-bef6-cd38ea23802d",
   "metadata": {},
   "outputs": [
    {
     "data": {
      "text/plain": [
       "['Manya', 'Maheshwari', '21', 'Student', '17/08/2004']"
      ]
     },
     "execution_count": 4,
     "metadata": {},
     "output_type": "execute_result"
    }
   ],
   "source": [
    "'Manya,Maheshwari,21,Student,17/08/2004'.split(',')"
   ]
  },
  {
   "cell_type": "markdown",
   "id": "6eae38ac-dfd6-471d-899b-633b19555351",
   "metadata": {},
   "source": [
    "#2. npy"
   ]
  },
  {
   "cell_type": "code",
   "execution_count": 5,
   "id": "0c4f37e8-83da-4739-abee-0dd17b481c72",
   "metadata": {},
   "outputs": [],
   "source": [
    "arr=np.array([[1,2,3],[4,5,6]])\n",
    "np.save('data.npy',arr)"
   ]
  },
  {
   "cell_type": "markdown",
   "id": "05391206-9218-416e-bc40-f8d184aab77d",
   "metadata": {},
   "source": [
    "#3. csv"
   ]
  },
  {
   "cell_type": "code",
   "execution_count": 9,
   "id": "b493b26b-6a0f-4899-b204-e4797a57accc",
   "metadata": {},
   "outputs": [],
   "source": [
    "arr=np.array([[1,2,3],[4,5,6]])\n",
    "np.savetxt('data.csv',arr,delimiter=',',header='a,b,c')"
   ]
  },
  {
   "cell_type": "markdown",
   "id": "5756765a-8b93-4fbb-9aaa-57f1cc63645c",
   "metadata": {},
   "source": [
    "#4. json"
   ]
  },
  {
   "cell_type": "code",
   "execution_count": 12,
   "id": "483b372b-ce39-4ade-ac9c-aed13c83e9cc",
   "metadata": {},
   "outputs": [],
   "source": [
    "arr=np.array([[1,2,3],[4,5,6]])\n",
    "np.savetxt('data.json',arr,delimiter=',',header='{\"data\":[',footer=']}')"
   ]
  },
  {
   "cell_type": "markdown",
   "id": "30ac7996-9574-4269-ac36-7b57ca4a7150",
   "metadata": {},
   "source": [
    "#5. yaml"
   ]
  },
  {
   "cell_type": "code",
   "execution_count": 13,
   "id": "f6ba63c7-4033-45ec-8760-a75dc28e743f",
   "metadata": {},
   "outputs": [],
   "source": [
    "arr=np.array([[1,2,3],[4,5,6]])\n",
    "np.savetxt('data.yaml',arr,delimiter=',',header='- data : ')"
   ]
  },
  {
   "cell_type": "code",
   "execution_count": null,
   "id": "e8df771b-4582-41f3-bcdf-e9817a895f0a",
   "metadata": {},
   "outputs": [],
   "source": []
  }
 ],
 "metadata": {
  "kernelspec": {
   "display_name": "Python 3 (ipykernel)",
   "language": "python",
   "name": "python3"
  },
  "language_info": {
   "codemirror_mode": {
    "name": "ipython",
    "version": 3
   },
   "file_extension": ".py",
   "mimetype": "text/x-python",
   "name": "python",
   "nbconvert_exporter": "python",
   "pygments_lexer": "ipython3",
   "version": "3.11.7"
  }
 },
 "nbformat": 4,
 "nbformat_minor": 5
}
