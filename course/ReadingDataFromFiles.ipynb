{
 "cells": [
  {
   "cell_type": "code",
   "execution_count": 1,
   "id": "c5318e85-19bd-478e-a452-538a46897a40",
   "metadata": {},
   "outputs": [],
   "source": [
    "import numpy as np"
   ]
  },
  {
   "cell_type": "markdown",
   "id": "f629b383-0149-46fb-8391-d6beb35468a5",
   "metadata": {},
   "source": [
    "# 1. textFile"
   ]
  },
  {
   "cell_type": "code",
   "execution_count": 3,
   "id": "22e946d0-76a2-4afc-8f8f-f045b2b9cf5b",
   "metadata": {},
   "outputs": [
    {
     "name": "stdout",
     "output_type": "stream",
     "text": [
      "[[1. 2. 3.]\n",
      " [4. 5. 6.]]\n"
     ]
    }
   ],
   "source": [
    "\n",
    "data = np.loadtxt(\"data.txt\", delimiter=',')\n",
    "print(data)"
   ]
  },
  {
   "cell_type": "markdown",
   "id": "6aba0f0a-902a-4bcc-a3e0-ca3b50289bdb",
   "metadata": {},
   "source": [
    "# 2. npy file"
   ]
  },
  {
   "cell_type": "code",
   "execution_count": 5,
   "id": "5fe3b1a9-a38e-47a3-8e1f-50090d32cca8",
   "metadata": {},
   "outputs": [
    {
     "name": "stdout",
     "output_type": "stream",
     "text": [
      "[[1 2 3]\n",
      " [4 5 6]]\n"
     ]
    }
   ],
   "source": [
    "data = np.load(\"data.npy\")\n",
    "print(data)"
   ]
  },
  {
   "cell_type": "markdown",
   "id": "c909dc65-5797-4d5f-8d63-a38a48c40e35",
   "metadata": {},
   "source": [
    "# 3. csv"
   ]
  },
  {
   "cell_type": "code",
   "execution_count": 7,
   "id": "c444e04c-11d8-4809-96f0-0d5bd4990de3",
   "metadata": {},
   "outputs": [
    {
     "name": "stdout",
     "output_type": "stream",
     "text": [
      "[[1. 2. 3.]\n",
      " [4. 5. 6.]]\n"
     ]
    }
   ],
   "source": [
    "data= np.loadtxt('data.csv',delimiter=',')\n",
    "print(data)"
   ]
  },
  {
   "cell_type": "markdown",
   "id": "a9744e1f-6262-4ad9-a300-b3d47c15e5b6",
   "metadata": {},
   "source": [
    "# 4. json"
   ]
  },
  {
   "cell_type": "code",
   "execution_count": 8,
   "id": "4ce0418a-844b-476f-b6d4-26d342e45030",
   "metadata": {},
   "outputs": [
    {
     "name": "stdout",
     "output_type": "stream",
     "text": [
      "[[1. 2. 3.]\n",
      " [4. 5. 6.]]\n"
     ]
    }
   ],
   "source": [
    "data= np.loadtxt('data.json',delimiter=',')\n",
    "print(data)"
   ]
  },
  {
   "cell_type": "markdown",
   "id": "0ad8517e-8aab-4d50-8d8a-f78fb4040974",
   "metadata": {},
   "source": [
    "# 5. yml"
   ]
  },
  {
   "cell_type": "code",
   "execution_count": 9,
   "id": "6265b8a3-24dc-45d8-ae35-2edfcbdccf62",
   "metadata": {},
   "outputs": [
    {
     "name": "stdout",
     "output_type": "stream",
     "text": [
      "[[1. 2. 3.]\n",
      " [4. 5. 6.]]\n"
     ]
    }
   ],
   "source": [
    "data= np.loadtxt('data.yaml',delimiter=',')\n",
    "print(data)"
   ]
  },
  {
   "cell_type": "code",
   "execution_count": null,
   "id": "8955fe2d-2bb4-4cbf-91a2-c3e82769f74f",
   "metadata": {},
   "outputs": [],
   "source": []
  }
 ],
 "metadata": {
  "kernelspec": {
   "display_name": "Python 3 (ipykernel)",
   "language": "python",
   "name": "python3"
  },
  "language_info": {
   "codemirror_mode": {
    "name": "ipython",
    "version": 3
   },
   "file_extension": ".py",
   "mimetype": "text/x-python",
   "name": "python",
   "nbconvert_exporter": "python",
   "pygments_lexer": "ipython3",
   "version": "3.11.7"
  }
 },
 "nbformat": 4,
 "nbformat_minor": 5
}
