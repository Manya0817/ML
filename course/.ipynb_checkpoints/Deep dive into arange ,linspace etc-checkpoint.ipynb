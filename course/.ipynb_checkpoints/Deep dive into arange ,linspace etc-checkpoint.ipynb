{
 "cells": [
  {
   "cell_type": "markdown",
   "id": "b357eb53-3909-4dfb-baca-52f2804fa7b0",
   "metadata": {},
   "source": [
    "# A Deep dive into range,arange,linspace"
   ]
  },
  {
   "cell_type": "code",
   "execution_count": 1,
   "id": "22f6fe15-ba94-4b2f-bcc1-cc3e6f90722e",
   "metadata": {},
   "outputs": [],
   "source": [
    "import numpy as np"
   ]
  },
  {
   "cell_type": "markdown",
   "id": "12cf0d10-5f3c-4ec9-9d2a-9a530e6cfd5d",
   "metadata": {},
   "source": [
    "**1. Range**"
   ]
  },
  {
   "cell_type": "code",
   "execution_count": 15,
   "id": "2f6fe959-7986-47cb-bf69-bb974aa1b2ac",
   "metadata": {},
   "outputs": [
    {
     "name": "stdout",
     "output_type": "stream",
     "text": [
      "0\n",
      "1\n",
      "2\n",
      "3\n",
      "4\n",
      "5\n",
      "6\n",
      "7\n",
      "8\n",
      "9\n"
     ]
    }
   ],
   "source": [
    "for i in range(10):\n",
    "    print(i)\n",
    "\n",
    "#The following function is not possible \n",
    "#in list but is possible in numpy array\n",
    "\n",
    "# r=range(0,10,.5)\n",
    "# print(r)"
   ]
  },
  {
   "cell_type": "code",
   "execution_count": 4,
   "id": "dbbdb45c-95c5-4d2e-a271-26e864a1e558",
   "metadata": {},
   "outputs": [
    {
     "name": "stdout",
     "output_type": "stream",
     "text": [
      "range(10, 0, -2)\n",
      "False\n",
      "True\n"
     ]
    }
   ],
   "source": [
    "r=range(10,0,-2)\n",
    "print(r)\n",
    "print(5 in r)\n",
    "print(10 in r)"
   ]
  },
  {
   "cell_type": "code",
   "execution_count": 5,
   "id": "2dc11416-939a-420e-8326-54ca84d9ade7",
   "metadata": {},
   "outputs": [
    {
     "name": "stdout",
     "output_type": "stream",
     "text": [
      "10\n",
      "8\n",
      "6\n",
      "4\n",
      "2\n"
     ]
    }
   ],
   "source": [
    "for i in range(10,0,-2):\n",
    "    print(i)"
   ]
  },
  {
   "cell_type": "code",
   "execution_count": 6,
   "id": "980f2d82-3c29-446f-81d3-f8f6e08c28cf",
   "metadata": {},
   "outputs": [
    {
     "name": "stdout",
     "output_type": "stream",
     "text": [
      "[1, 2, 3, 4, 5]\n"
     ]
    }
   ],
   "source": [
    "r=range(1,6)\n",
    "print(list(r))"
   ]
  },
  {
   "cell_type": "markdown",
   "id": "3e4dab97-8a57-4379-9d32-695e30f56d1c",
   "metadata": {},
   "source": [
    "**2. arange**"
   ]
  },
  {
   "cell_type": "code",
   "execution_count": 13,
   "id": "bed311db-7732-47f2-893f-1d1dd2d60990",
   "metadata": {},
   "outputs": [
    {
     "name": "stdout",
     "output_type": "stream",
     "text": [
      "[0 2 4 6 8]\n",
      "[10  9  8  7  6  5  4  3  2  1]\n",
      "[0.  0.5 1.  1.5 2.  2.5 3.  3.5 4.  4.5 5.  5.5 6.  6.5 7.  7.5 8.  8.5\n",
      " 9.  9.5]\n"
     ]
    }
   ],
   "source": [
    "arr=np.arange(0,10,2)\n",
    "print(arr)\n",
    "\n",
    "arr=np.arange(10,0,-1)\n",
    "print(arr)\n",
    "\n",
    "arr=np.arange(0,10,0.5)\n",
    "print(arr)"
   ]
  },
  {
   "cell_type": "markdown",
   "id": "f680ee2e-d5a3-42e0-a335-208daf4fb104",
   "metadata": {},
   "source": [
    "**3. Linspace**"
   ]
  },
  {
   "cell_type": "code",
   "execution_count": 22,
   "id": "7b0765ad-905b-4676-abbd-47eb83cf5c2e",
   "metadata": {},
   "outputs": [
    {
     "name": "stdout",
     "output_type": "stream",
     "text": [
      "[ 0.   2.5  5.   7.5 10. ]\n",
      "[ 1.     2.125  3.25   4.375  5.5    6.625  7.75   8.875 10.   ]\n",
      "[1.  1.9 2.8 3.7 4.6 5.5 6.4 7.3 8.2 9.1]\n",
      "[1.         1.44444444 1.88888889 2.33333333 2.77777778 3.22222222\n",
      " 3.66666667 4.11111111 4.55555556 5.        ]\n",
      "0.4444444444444444\n"
     ]
    }
   ],
   "source": [
    "l=np.linspace(0,10,5)\n",
    "print(l)\n",
    "\n",
    "l=np.linspace(1,10,9)\n",
    "print(l)\n",
    "\n",
    "l=np.linspace(1,10,10,endpoint=False)\n",
    "print(l)\n",
    "\n",
    "l,s=np.linspace(1,5,10,retstep=True)\n",
    "print(l)\n",
    "print(s)"
   ]
  },
  {
   "cell_type": "code",
   "execution_count": 18,
   "id": "f076c2cf-1540-401f-a8ee-c7a0049ada04",
   "metadata": {},
   "outputs": [
    {
     "name": "stdout",
     "output_type": "stream",
     "text": [
      "[ 0  5 10]\n"
     ]
    }
   ],
   "source": [
    "l=np.arange(0,11,5)\n",
    "print(l)"
   ]
  },
  {
   "cell_type": "markdown",
   "id": "dff20e51-2723-4612-9b2e-db16db9047a8",
   "metadata": {},
   "source": [
    "**4. logspace**"
   ]
  },
  {
   "cell_type": "code",
   "execution_count": 24,
   "id": "d8f16486-3c34-492e-bd08-1aa56b55ac56",
   "metadata": {},
   "outputs": [
    {
     "name": "stdout",
     "output_type": "stream",
     "text": [
      "[1.00000000e+00 3.16227766e+02 1.00000000e+05 3.16227766e+07\n",
      " 1.00000000e+10]\n",
      "[1.e+00 1.e+02 1.e+04 1.e+06 1.e+08]\n",
      "[1.00000000e+00 5.65685425e+00 3.20000000e+01 1.81019336e+02\n",
      " 1.02400000e+03]\n"
     ]
    }
   ],
   "source": [
    "arr=np.logspace(0,10,5)\n",
    "print(arr)\n",
    "\n",
    "arr=np.logspace(0,10,5,endpoint=False)\n",
    "print(arr)\n",
    "\n",
    "arr=np.logspace(0,10,5,base=2)\n",
    "print(arr)"
   ]
  },
  {
   "cell_type": "markdown",
   "id": "e013d566-05f1-4d8e-8d98-f2cc421919a4",
   "metadata": {},
   "source": [
    "# Array manipulation essentials: Reshaing ,Flattening ,Splitting"
   ]
  },
  {
   "cell_type": "markdown",
   "id": "1079af2a-6e92-4e98-b5f0-c2146cbe10e9",
   "metadata": {},
   "source": [
    "**1. Flattening**"
   ]
  },
  {
   "cell_type": "code",
   "execution_count": 27,
   "id": "079f6a74-56aa-46b1-a149-f5899b717826",
   "metadata": {},
   "outputs": [
    {
     "name": "stdout",
     "output_type": "stream",
     "text": [
      "[[1 2 3]\n",
      " [4 5 6]]\n",
      "[1 2 3 4 5 6]\n",
      "[[[1 2 3]\n",
      "  [4 5 6]]\n",
      "\n",
      " [[1 2 3]\n",
      "  [4 5 6]]]\n",
      "[1 2 3 4 5 6 1 2 3 4 5 6]\n"
     ]
    }
   ],
   "source": [
    "arr=np.array([[1,2,3],[4,5,6]])\n",
    "print(arr)\n",
    "\n",
    "flat_arr=arr.flatten()\n",
    "print(flat_arr)\n",
    "\n",
    "arr=np.array([[[1,2,3],[4,5,6]],[[1,2,3],[4,5,6]]])\n",
    "print(arr)\n",
    "\n",
    "flat_arr=arr.flatten()\n",
    "print(flat_arr)"
   ]
  },
  {
   "cell_type": "markdown",
   "id": "c0ee733e-06aa-4d1f-b5f8-bc5e7aec1ba5",
   "metadata": {},
   "source": [
    "**2. Reshaping**"
   ]
  },
  {
   "cell_type": "code",
   "execution_count": 36,
   "id": "095f114d-024f-429f-9459-a4ec4122f21d",
   "metadata": {},
   "outputs": [
    {
     "name": "stdout",
     "output_type": "stream",
     "text": [
      "[[1 2 3]\n",
      " [4 5 6]]\n",
      "[[1]\n",
      " [2]\n",
      " [3]\n",
      " [4]\n",
      " [5]\n",
      " [6]]\n"
     ]
    }
   ],
   "source": [
    "arr=np.array([[1,2,3],[4,5,6]])\n",
    "print(arr)\n",
    "\n",
    "reshaped_arr=np.reshape(arr,(6,1))\n",
    "print(reshaped_arr)"
   ]
  },
  {
   "cell_type": "markdown",
   "id": "af46f00d-bffc-4bda-a840-a7784e514b45",
   "metadata": {},
   "source": [
    "**3. Splitting**"
   ]
  },
  {
   "cell_type": "markdown",
   "id": "cb3e059f-9dcb-4fd4-bc84-e121ca7b61cb",
   "metadata": {},
   "source": [
    "vsplit"
   ]
  },
  {
   "cell_type": "code",
   "execution_count": 43,
   "id": "ffbf9a20-743a-4179-bc6b-1b79e50d430e",
   "metadata": {},
   "outputs": [
    {
     "name": "stdout",
     "output_type": "stream",
     "text": [
      "[[ 1  2  3  2]\n",
      " [ 4  5  6  2]\n",
      " [ 7  8  9  2]\n",
      " [10 11 12 13]]\n",
      "[array([[1, 2, 3, 2],\n",
      "       [4, 5, 6, 2]]), array([[ 7,  8,  9,  2],\n",
      "       [10, 11, 12, 13]])]\n",
      "[[1 2 3 2]]\n",
      "[[4 5 6 2]]\n",
      "[[7 8 9 2]]\n",
      "[[10 11 12 13]]\n"
     ]
    }
   ],
   "source": [
    "arr=np.array([[1,2,3,2],[4,5,6,2],[7,8,9,2],[10,11,12,13]])\n",
    "print(arr)\n",
    "\n",
    "print(np.vsplit(arr,2))\n",
    "for i in np.vsplit(arr,4):\n",
    "    print(i)"
   ]
  },
  {
   "cell_type": "markdown",
   "id": "fb98bedd-2d59-42cf-907b-9772dd111989",
   "metadata": {},
   "source": [
    "-hsplit"
   ]
  },
  {
   "cell_type": "code",
   "execution_count": 44,
   "id": "71f6405c-1cc3-4100-9a4f-6f74cfe6c8e5",
   "metadata": {},
   "outputs": [
    {
     "name": "stdout",
     "output_type": "stream",
     "text": [
      "[[ 1  2  3  2]\n",
      " [ 4  5  6  2]\n",
      " [ 7  8  9  2]\n",
      " [10 11 12 13]]\n",
      "[array([[ 1,  2],\n",
      "       [ 4,  5],\n",
      "       [ 7,  8],\n",
      "       [10, 11]]), array([[ 3,  2],\n",
      "       [ 6,  2],\n",
      "       [ 9,  2],\n",
      "       [12, 13]])]\n",
      "[[ 1]\n",
      " [ 4]\n",
      " [ 7]\n",
      " [10]]\n",
      "[[ 2]\n",
      " [ 5]\n",
      " [ 8]\n",
      " [11]]\n",
      "[[ 3]\n",
      " [ 6]\n",
      " [ 9]\n",
      " [12]]\n",
      "[[ 2]\n",
      " [ 2]\n",
      " [ 2]\n",
      " [13]]\n"
     ]
    }
   ],
   "source": [
    "arr=np.array([[1,2,3,2],[4,5,6,2],[7,8,9,2],[10,11,12,13]])\n",
    "print(arr)\n",
    "\n",
    "print(np.hsplit(arr,2))\n",
    "for i in np.hsplit(arr,4):\n",
    "    print(i)"
   ]
  },
  {
   "cell_type": "markdown",
   "id": "3c68c220-2a4d-4890-9c14-644a9e1d1212",
   "metadata": {},
   "source": [
    "**Split**"
   ]
  },
  {
   "cell_type": "code",
   "execution_count": 52,
   "id": "a33cf880-e77c-445b-9121-52e2004d53a1",
   "metadata": {},
   "outputs": [
    {
     "name": "stdout",
     "output_type": "stream",
     "text": [
      "[[ 1  2  3  2]\n",
      " [ 4  5  6  2]\n",
      " [ 7  8  9  2]\n",
      " [10 11 12 13]]\n",
      "--------------------\n",
      "[array([[ 1,  2],\n",
      "       [ 4,  5],\n",
      "       [ 7,  8],\n",
      "       [10, 11]]), array([[ 3,  2],\n",
      "       [ 6,  2],\n",
      "       [ 9,  2],\n",
      "       [12, 13]])]\n"
     ]
    }
   ],
   "source": [
    "arr=np.array([[1,2,3,2],[4,5,6,2],[7,8,9,2],[10,11,12,13]])\n",
    "print(arr)\n",
    "\n",
    "print('-'*20)\n",
    "\n",
    "split_arr=np.split(arr,2,axis=1)\n",
    "print(split_arr)\n",
    "\n",
    "#axis=0 denotes vsplit\n",
    "#axis=1 denotes hsplit\n",
    "#by default the split is vertical split vsplit"
   ]
  },
  {
   "cell_type": "markdown",
   "id": "44fac49e-9208-48b5-b81b-f76801ed8d60",
   "metadata": {},
   "source": [
    "**4. Merging**"
   ]
  },
  {
   "cell_type": "markdown",
   "id": "155bea8f-a258-4fc0-804c-3bc06449170f",
   "metadata": {},
   "source": [
    "#concatenate"
   ]
  },
  {
   "cell_type": "code",
   "execution_count": 55,
   "id": "71d36f84-9b2a-49d1-a942-6f01e0197072",
   "metadata": {},
   "outputs": [
    {
     "name": "stdout",
     "output_type": "stream",
     "text": [
      "[1 2 3 4 1 5 6 4]\n",
      "[1 2 3 4 1 5 6 4 8 7 3 4]\n",
      "[ 1  2  3  4  1  5  6  4  8  7  3  4  9  2 10  4]\n"
     ]
    }
   ],
   "source": [
    "arr1=np.array([1,2,3,4])\n",
    "arr2=np.array([1,5,6,4])\n",
    "arr3=np.array([8,7,3,4])\n",
    "arr4=np.array([9,2,10,4])\n",
    "\n",
    "concat_arr=np.concatenate((arr1,arr2))\n",
    "concat_arr2=np.concatenate((arr1,arr2,arr3))\n",
    "concat_arr3=np.concatenate((arr1,arr2,arr3,arr4))\n",
    "print(concat_arr)\n",
    "print(concat_arr2)\n",
    "print(concat_arr3)"
   ]
  },
  {
   "cell_type": "markdown",
   "id": "ae1eebcd-aa2a-43a9-a968-a2a1fc265b7d",
   "metadata": {},
   "source": [
    "#hstack"
   ]
  },
  {
   "cell_type": "code",
   "execution_count": 56,
   "id": "cb0c8ae2-2546-4add-a24c-3d6447410c7a",
   "metadata": {},
   "outputs": [
    {
     "name": "stdout",
     "output_type": "stream",
     "text": [
      "[ 1  2  3  4  1  5  6  4  8  7  3  4  9  2 10  4]\n"
     ]
    }
   ],
   "source": [
    "arr1=np.array([1,2,3,4])\n",
    "arr2=np.array([1,5,6,4])\n",
    "arr3=np.array([8,7,3,4])\n",
    "arr4=np.array([9,2,10,4])\n",
    "\n",
    "concat_arr=np.hstack((arr1,arr2,arr3,arr4))\n",
    "print(concat_arr)"
   ]
  },
  {
   "cell_type": "markdown",
   "id": "9e91267a-95ce-40a6-a168-bed95528ec18",
   "metadata": {},
   "source": [
    "#vstack"
   ]
  },
  {
   "cell_type": "code",
   "execution_count": 57,
   "id": "909e0e61-cf51-4bd0-b9d8-1e0caa8c47be",
   "metadata": {},
   "outputs": [
    {
     "name": "stdout",
     "output_type": "stream",
     "text": [
      "[[ 1  2  3  4]\n",
      " [ 1  5  6  4]\n",
      " [ 8  7  3  4]\n",
      " [ 9  2 10  4]]\n"
     ]
    }
   ],
   "source": [
    "arr1=np.array([1,2,3,4])\n",
    "arr2=np.array([1,5,6,4])\n",
    "arr3=np.array([8,7,3,4])\n",
    "arr4=np.array([9,2,10,4])\n",
    "\n",
    "concat_arr=np.vstack((arr1,arr2,arr3,arr4))\n",
    "print(concat_arr)"
   ]
  },
  {
   "cell_type": "markdown",
   "id": "ec328644-4de3-4282-a353-0fe9a3edcc21",
   "metadata": {},
   "source": [
    "#stack"
   ]
  },
  {
   "cell_type": "code",
   "execution_count": 60,
   "id": "22b5fbe8-6fa2-4a8c-b7c1-a8491de0e648",
   "metadata": {},
   "outputs": [
    {
     "name": "stdout",
     "output_type": "stream",
     "text": [
      "[[ 1  2  3  4]\n",
      " [ 1  5  6  4]\n",
      " [ 8  7  3  4]\n",
      " [ 9  2 10  4]]\n",
      "[[ 1  1  8  9]\n",
      " [ 2  5  7  2]\n",
      " [ 3  6  3 10]\n",
      " [ 4  4  4  4]]\n"
     ]
    }
   ],
   "source": [
    "arr1=np.array([1,2,3,4])\n",
    "arr2=np.array([1,5,6,4])\n",
    "arr3=np.array([8,7,3,4])\n",
    "arr4=np.array([9,2,10,4])\n",
    "\n",
    "concat_arr=np.stack((arr1,arr2,arr3,arr4),axis=0)\n",
    "print(concat_arr)\n",
    "\n",
    "concat_arr=np.stack((arr1,arr2,arr3,arr4),axis=1)\n",
    "print(concat_arr)"
   ]
  },
  {
   "cell_type": "markdown",
   "id": "ff0eacfa-d71f-4a3a-9ed2-4a54bfa10353",
   "metadata": {},
   "source": [
    "# Advanced Multidimensional Indexing"
   ]
  },
  {
   "cell_type": "code",
   "execution_count": 78,
   "id": "3a70f7a5-f03a-495a-9eed-1327a213112d",
   "metadata": {},
   "outputs": [
    {
     "data": {
      "text/plain": [
       "array([[[ 1,  2,  3],\n",
       "        [-3,  5,  6]],\n",
       "\n",
       "       [[ 7,  8,  9],\n",
       "        [10, 11, 12]]])"
      ]
     },
     "execution_count": 78,
     "metadata": {},
     "output_type": "execute_result"
    }
   ],
   "source": [
    "arr=np.array([[[1,2,3],[-3,5,6]],[[7,8,9],[10,11,12]]])\n",
    "arr"
   ]
  },
  {
   "cell_type": "code",
   "execution_count": 62,
   "id": "6cd50f7b-f75b-4845-a84a-e9d4ed7b253a",
   "metadata": {},
   "outputs": [
    {
     "data": {
      "text/plain": [
       "(2, 2, 3)"
      ]
     },
     "execution_count": 62,
     "metadata": {},
     "output_type": "execute_result"
    }
   ],
   "source": [
    "arr.shape"
   ]
  },
  {
   "cell_type": "code",
   "execution_count": 63,
   "id": "81768727-b93c-4e07-bcb3-42142cac2850",
   "metadata": {},
   "outputs": [
    {
     "name": "stdout",
     "output_type": "stream",
     "text": [
      "[[1 2 3]\n",
      " [4 5 6]]\n"
     ]
    }
   ],
   "source": [
    "print(arr[0])"
   ]
  },
  {
   "cell_type": "code",
   "execution_count": 64,
   "id": "bb42ffd3-d5c5-4f9c-b10e-a5dfed436c10",
   "metadata": {},
   "outputs": [
    {
     "name": "stdout",
     "output_type": "stream",
     "text": [
      "[4 5 6]\n"
     ]
    }
   ],
   "source": [
    "print(arr[0][1])"
   ]
  },
  {
   "cell_type": "code",
   "execution_count": 65,
   "id": "8a8b5d2f-f977-42f1-b598-763d9470c4c3",
   "metadata": {},
   "outputs": [
    {
     "name": "stdout",
     "output_type": "stream",
     "text": [
      "6\n"
     ]
    }
   ],
   "source": [
    "print(arr[0][1][2])"
   ]
  },
  {
   "cell_type": "code",
   "execution_count": 67,
   "id": "8a9bf7ad-ecb9-4a6b-ab63-d741f11fd3fb",
   "metadata": {},
   "outputs": [
    {
     "name": "stdout",
     "output_type": "stream",
     "text": [
      "6\n"
     ]
    }
   ],
   "source": [
    "print(arr[0,1,2])"
   ]
  },
  {
   "cell_type": "code",
   "execution_count": 69,
   "id": "b2cee28f-c300-4acc-9782-fc569133af38",
   "metadata": {},
   "outputs": [
    {
     "name": "stdout",
     "output_type": "stream",
     "text": [
      "[4 5 6]\n"
     ]
    }
   ],
   "source": [
    "print(arr[0,1])"
   ]
  },
  {
   "cell_type": "code",
   "execution_count": 70,
   "id": "458310ad-0bf4-43d6-b743-429f1aee5761",
   "metadata": {},
   "outputs": [
    {
     "name": "stdout",
     "output_type": "stream",
     "text": [
      "[[1 2 3]\n",
      " [4 5 6]]\n"
     ]
    }
   ],
   "source": [
    "print(arr[0,:,:])"
   ]
  },
  {
   "cell_type": "code",
   "execution_count": 71,
   "id": "344d5076-33fa-4bfe-afd3-4922a59523bf",
   "metadata": {},
   "outputs": [
    {
     "name": "stdout",
     "output_type": "stream",
     "text": [
      "[[ 4  5  6]\n",
      " [10 11 12]]\n"
     ]
    }
   ],
   "source": [
    "print(arr[:,1,:])"
   ]
  },
  {
   "cell_type": "code",
   "execution_count": 73,
   "id": "d5d18d00-957f-4cac-9bf6-5b5a4baff18f",
   "metadata": {},
   "outputs": [
    {
     "name": "stdout",
     "output_type": "stream",
     "text": [
      "[[1 2 3]\n",
      " [4 5 6]]\n"
     ]
    }
   ],
   "source": [
    "#accessing with specific conditions\n",
    "\n",
    "print(arr[[0],[0,1],:])"
   ]
  },
  {
   "cell_type": "code",
   "execution_count": 79,
   "id": "3b29d4ee-8a93-4aa5-b8be-b2421407f7b1",
   "metadata": {},
   "outputs": [
    {
     "name": "stdout",
     "output_type": "stream",
     "text": [
      "[[[ 1  2  3]\n",
      "  [-3  5  6]]\n",
      "\n",
      " [[ 7  8  9]\n",
      "  [10 11 12]]]\n",
      "********************\n",
      "[[[ 1  2  3]\n",
      "  [-3  5  0]]\n",
      "\n",
      " [[ 0  0  0]\n",
      "  [ 0  0  0]]]\n",
      "[[[ 1  2  3]\n",
      "  [-3  5  0]]\n",
      "\n",
      " [[ 0  0  0]\n",
      "  [ 0  0  0]]]\n"
     ]
    }
   ],
   "source": [
    "print(arr)\n",
    "print('*'*20)\n",
    "arr[arr>5]=0\n",
    "print(arr)\n",
    "arr[arr>=18]=True\n",
    "print(arr)"
   ]
  },
  {
   "cell_type": "markdown",
   "id": "199f0d38-cb9b-4ee2-8985-a1572aeaae1b",
   "metadata": {},
   "source": [
    "# Broadcasting for efficient calculations"
   ]
  },
  {
   "cell_type": "markdown",
   "id": "03eba978-8bf0-4073-96c6-5d03a27fed7a",
   "metadata": {},
   "source": [
    "**1. Arithmetic**"
   ]
  },
  {
   "cell_type": "code",
   "execution_count": 87,
   "id": "81efe782-fc22-4496-8f86-c98e18f51a47",
   "metadata": {},
   "outputs": [
    {
     "name": "stdout",
     "output_type": "stream",
     "text": [
      "[1 2 3]\n",
      "[[10 20 20]\n",
      " [40 50 60]]\n",
      "[[11 22 23]\n",
      " [41 52 63]]\n",
      "[6 7 8]\n",
      "[11 12 13]\n",
      "[-1  0  1]\n",
      "[[ -9 -18 -17]\n",
      " [-39 -48 -57]]\n",
      "[2 4 6]\n",
      "[[ 10  40  60]\n",
      " [ 40 100 180]]\n",
      "[0.5 1.  1.5]\n",
      "[[0.1   0.1   0.15 ]\n",
      " [0.025 0.04  0.05 ]]\n",
      "[1 4 9]\n",
      "[[          1     1048576  -808182895]\n",
      " [          1           0 -1830685263]]\n",
      "[1 0 1]\n",
      "[[1 2 3]\n",
      " [1 2 3]]\n"
     ]
    }
   ],
   "source": [
    "a=np.array([1,2,3])\n",
    "b=np.array([[10,20,20],[40,50,60]])\n",
    "\n",
    "print(a)\n",
    "print(b)\n",
    "\n",
    "#addition \n",
    "print(a+b)\n",
    "print(a+5)\n",
    "print(a+10)\n",
    "\n",
    "#subtraction\n",
    "\n",
    "print(a-2)\n",
    "print(a-b)\n",
    "\n",
    "#multiplication\n",
    "\n",
    "print(a*2)\n",
    "print(a*b)\n",
    "\n",
    "#division\n",
    "\n",
    "print(a/2)\n",
    "print(a/b)\n",
    "\n",
    "#exponentiation\n",
    "\n",
    "print(a**2)\n",
    "print(a**b)\n",
    "\n",
    "#modulo\n",
    "\n",
    "print(a%2)\n",
    "print(a%b)"
   ]
  },
  {
   "cell_type": "markdown",
   "id": "ca8dc441-880d-4802-9eba-872bf795910d",
   "metadata": {},
   "source": [
    "**2. Comparison**"
   ]
  },
  {
   "cell_type": "code",
   "execution_count": 96,
   "id": "5cdab634-f91f-4efc-b154-9b7e6787f058",
   "metadata": {},
   "outputs": [
    {
     "name": "stdout",
     "output_type": "stream",
     "text": [
      "[1 2 3]\n",
      "[[1 2 3]\n",
      " [4 5 6]]\n",
      "********************\n",
      "[[False False False]\n",
      " [False False False]]\n",
      "[False False  True]\n",
      "********************\n",
      "[[False False False]\n",
      " [ True  True  True]]\n",
      "[ True False False]\n",
      "********************\n",
      "[[ True  True  True]\n",
      " [False False False]]\n",
      "[False  True  True]\n",
      "********************\n",
      "[[ True  True  True]\n",
      " [ True  True  True]]\n",
      "[ True  True False]\n",
      "********************\n",
      "[[ True  True  True]\n",
      " [False False False]]\n",
      "[False  True False]\n",
      "********************\n",
      "[[False False False]\n",
      " [ True  True  True]]\n",
      "[ True False  True]\n",
      "********************\n"
     ]
    }
   ],
   "source": [
    "a=np.array([1,2,3])\n",
    "b=np.array([[1,2,3],[4,5,6]])\n",
    "\n",
    "print(a)\n",
    "print(b)\n",
    "print('*'*20)\n",
    "\n",
    "# > (greater than)\n",
    "\n",
    "print(a>b)\n",
    "print(a>2)\n",
    "print('*'*20)\n",
    "\n",
    "# < (lesser than)\n",
    "\n",
    "print(a<b)\n",
    "print(a<2)\n",
    "print('*'*20)\n",
    "\n",
    "\n",
    "# >= (greater than equals to)\n",
    "\n",
    "print(a>=b)\n",
    "print(a>=2)\n",
    "print('*'*20)\n",
    "\n",
    "# <= (lesser than equals to)\n",
    "\n",
    "print(a<=b)\n",
    "print(a<=2)\n",
    "print('*'*20)\n",
    "\n",
    "# == (equals to)\n",
    "\n",
    "print(a==b)\n",
    "print(a==2)\n",
    "print('*'*20)\n",
    "\n",
    "# != (not equals to)\n",
    "\n",
    "print(a!=b)\n",
    "print(a!=2)\n",
    "print('*'*20)"
   ]
  },
  {
   "cell_type": "markdown",
   "id": "136272f0-bacb-40bc-89e1-7bf9b4f9953f",
   "metadata": {},
   "source": [
    "**Logical**"
   ]
  },
  {
   "cell_type": "code",
   "execution_count": 99,
   "id": "41e82fbc-1e6b-4417-b7b2-d838da617695",
   "metadata": {},
   "outputs": [
    {
     "name": "stdout",
     "output_type": "stream",
     "text": [
      "[1 2 3]\n",
      "********************\n",
      "[[1 2 3]\n",
      " [4 5 6]]\n",
      "********************\n",
      "[[1 2 3]\n",
      " [0 0 2]]\n",
      "********************\n",
      "[[1 2 3]\n",
      " [5 7 7]]\n",
      "********************\n",
      "[[0 0 0]\n",
      " [5 7 5]]\n",
      "********************\n"
     ]
    }
   ],
   "source": [
    "a=np.array([1,2,3])\n",
    "b=np.array([[1,2,3],[4,5,6]])\n",
    "\n",
    "print(a)\n",
    "print('*'*20)\n",
    "print(b)\n",
    "print('*'*20)\n",
    "\n",
    "print(a&b)\n",
    "print('*'*20)\n",
    "\n",
    "print(a|b)\n",
    "print('*'*20)\n",
    "\n",
    "print(a^b)\n",
    "print('*'*20)"
   ]
  },
  {
   "cell_type": "markdown",
   "id": "18f2a834-55b1-4633-a7cd-35fb4098b1a8",
   "metadata": {},
   "source": [
    "**Bitwise operator**"
   ]
  },
  {
   "cell_type": "code",
   "execution_count": 103,
   "id": "d8494307-d357-4815-bb1b-4d673449f812",
   "metadata": {},
   "outputs": [
    {
     "name": "stdout",
     "output_type": "stream",
     "text": [
      "[1 2 3]\n",
      "********************\n",
      "[[1 2 3]\n",
      " [4 5 6]]\n",
      "********************\n",
      "[[1 2 3]\n",
      " [0 0 2]]\n",
      "********************\n",
      "[[1 2 3]\n",
      " [5 7 7]]\n",
      "********************\n",
      "[[0 0 0]\n",
      " [5 7 5]]\n",
      "********************\n",
      "[[-2 -3 -4]\n",
      " [-2 -3 -4]]\n",
      "********************\n",
      "[[0 0 0]\n",
      " [0 0 0]]\n",
      "********************\n",
      "[[0 0 0]\n",
      " [0 0 0]]\n",
      "********************\n"
     ]
    }
   ],
   "source": [
    "a=np.array([1,2,3])\n",
    "b=np.array([[1,2,3],[4,5,6]])\n",
    "\n",
    "print(a)\n",
    "print('*'*20)\n",
    "print(b)\n",
    "print('*'*20)\n",
    "\n",
    "print(np.bitwise_and(a,b))\n",
    "print('*'*20)\n",
    "\n",
    "print(np.bitwise_or(a,b))\n",
    "print('*'*20)\n",
    "\n",
    "print(np.bitwise_xor(a,b))\n",
    "print('*'*20)\n",
    "\n",
    "print(np.bitwise_not(a,b))\n",
    "print('*'*20)\n",
    "\n",
    "print(np.right_shift(a,b))\n",
    "print('*'*20)\n",
    "\n",
    "print(np.left_shift(a,b))\n",
    "print('*'*20)"
   ]
  },
  {
   "cell_type": "code",
   "execution_count": 105,
   "id": "6f240cc4-7eb1-4c2f-96ef-c65a71482c37",
   "metadata": {},
   "outputs": [
    {
     "data": {
      "text/plain": [
       "26"
      ]
     },
     "execution_count": 105,
     "metadata": {},
     "output_type": "execute_result"
    }
   ],
   "source": [
    "(np.arange(0,100,2)>50).tolist().count(False)"
   ]
  },
  {
   "cell_type": "code",
   "execution_count": 106,
   "id": "ea1a92ea-1752-46c4-a5e7-6aae2388a3a5",
   "metadata": {},
   "outputs": [
    {
     "data": {
      "text/plain": [
       "24"
      ]
     },
     "execution_count": 106,
     "metadata": {},
     "output_type": "execute_result"
    }
   ],
   "source": [
    "(np.arange(0,100,2)>50).tolist().count(True)"
   ]
  },
  {
   "cell_type": "markdown",
   "id": "409c01eb-a3ee-4bd7-bff8-5dd94d41e6f5",
   "metadata": {},
   "source": [
    "# Locating Elements with where"
   ]
  },
  {
   "cell_type": "markdown",
   "id": "3842fdef-4611-48a7-8750-19d2ead6b1b0",
   "metadata": {},
   "source": [
    "**1. Where clause with 1 d array**"
   ]
  },
  {
   "cell_type": "code",
   "execution_count": 113,
   "id": "68cd3c8a-1d46-4f09-ac7b-7622f40e4bb2",
   "metadata": {},
   "outputs": [
    {
     "name": "stdout",
     "output_type": "stream",
     "text": [
      "[ 7  4  8  5  7 10  3  7  8  5]\n",
      "********************\n",
      "(array([0, 2, 3, 4, 5, 7, 8, 9], dtype=int64),)\n",
      "[ 7  8  5  7 10  7  8  5]\n",
      "[0, 2, 3, 4, 5, 7, 8, 9]\n",
      "********************\n",
      "[ 7  8  5  7 10  7  8  5]\n"
     ]
    }
   ],
   "source": [
    "np.random.seed(42)\n",
    "arr=np.random.randint(1,11,size=10)\n",
    "print(arr)\n",
    "print('*'*20)\n",
    "print(np.where(arr>=5))\n",
    "print(arr[np.where(arr>=5)])\n",
    "\n",
    "indices=np.where(arr>=5)\n",
    "print(list(indices[0]))\n",
    "print('*'*20)\n",
    "\n",
    "print(arr[indices])"
   ]
  },
  {
   "cell_type": "markdown",
   "id": "cd7d8126-ed3d-455e-9035-9dedf2948fd2",
   "metadata": {},
   "source": [
    "**2D array**"
   ]
  },
  {
   "cell_type": "code",
   "execution_count": 115,
   "id": "9ad3430b-56e0-4e07-899b-3e4ab831b33a",
   "metadata": {},
   "outputs": [
    {
     "name": "stdout",
     "output_type": "stream",
     "text": [
      "[[ 7  4  8]\n",
      " [ 5  7 10]\n",
      " [ 3  7  8]]\n",
      "********************\n",
      "(array([0, 0, 1, 1, 1, 2, 2], dtype=int64), array([0, 2, 0, 1, 2, 1, 2], dtype=int64))\n",
      "********************\n",
      "[ 7  8  5  7 10  7  8]\n"
     ]
    }
   ],
   "source": [
    "np.random.seed(42)\n",
    "arr=np.random.randint(1,11,size=(3,3))\n",
    "\n",
    "print(arr)\n",
    "print('*'*20)\n",
    "indices=np.where(arr>=5)\n",
    "print(indices)\n",
    "print('*'*20)\n",
    "\n",
    "print(arr[indices])"
   ]
  },
  {
   "cell_type": "markdown",
   "id": "1548649e-2ad8-4d55-b94a-f11e7e6f24e9",
   "metadata": {},
   "source": [
    "**3D Array**"
   ]
  },
  {
   "cell_type": "code",
   "execution_count": 116,
   "id": "8843609b-8567-4975-8b60-1bd674c5250c",
   "metadata": {},
   "outputs": [
    {
     "name": "stdout",
     "output_type": "stream",
     "text": [
      "[[[ 7  4  8]\n",
      "  [ 5  7 10]\n",
      "  [ 3  7  8]]\n",
      "\n",
      " [[ 5  4  8]\n",
      "  [ 8  3  6]\n",
      "  [ 5  2  8]]\n",
      "\n",
      " [[ 6  2  5]\n",
      "  [ 1 10  6]\n",
      "  [ 9  1 10]]]\n",
      "********************\n",
      "(array([0, 0, 0, 0, 0, 0, 0, 1, 1, 1, 1, 1, 1, 2, 2, 2, 2, 2, 2],\n",
      "      dtype=int64), array([0, 0, 1, 1, 1, 2, 2, 0, 0, 1, 1, 2, 2, 0, 0, 1, 1, 2, 2],\n",
      "      dtype=int64), array([0, 2, 0, 1, 2, 1, 2, 0, 2, 0, 2, 0, 2, 0, 2, 1, 2, 0, 2],\n",
      "      dtype=int64))\n",
      "********************\n",
      "[ 7  8  5  7 10  7  8  5  8  8  6  5  8  6  5 10  6  9 10]\n"
     ]
    }
   ],
   "source": [
    "np.random.seed(42)\n",
    "arr=np.random.randint(1,11,size=(3,3,3))\n",
    "\n",
    "print(arr)\n",
    "print('*'*20)\n",
    "indices=np.where(arr>=5)\n",
    "print(indices)\n",
    "print('*'*20)\n",
    "\n",
    "print(arr[indices])"
   ]
  },
  {
   "cell_type": "code",
   "execution_count": null,
   "id": "bc1d4e72-29df-446f-9f8f-83d3b6e030e5",
   "metadata": {},
   "outputs": [],
   "source": []
  }
 ],
 "metadata": {
  "kernelspec": {
   "display_name": "Python 3 (ipykernel)",
   "language": "python",
   "name": "python3"
  },
  "language_info": {
   "codemirror_mode": {
    "name": "ipython",
    "version": 3
   },
   "file_extension": ".py",
   "mimetype": "text/x-python",
   "name": "python",
   "nbconvert_exporter": "python",
   "pygments_lexer": "ipython3",
   "version": "3.11.7"
  }
 },
 "nbformat": 4,
 "nbformat_minor": 5
}
