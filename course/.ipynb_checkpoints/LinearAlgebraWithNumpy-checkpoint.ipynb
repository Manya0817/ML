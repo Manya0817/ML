{
 "cells": [
  {
   "cell_type": "markdown",
   "id": "1d17008e-6b70-4400-b063-f900792824c9",
   "metadata": {},
   "source": [
    "# Dot Product"
   ]
  },
  {
   "cell_type": "code",
   "execution_count": 1,
   "id": "57e145db-19a3-424b-b093-93e1697210eb",
   "metadata": {},
   "outputs": [],
   "source": [
    "import numpy as np"
   ]
  },
  {
   "cell_type": "code",
   "execution_count": 3,
   "id": "193f762b-eebb-43a4-9743-2c6d3f996a20",
   "metadata": {},
   "outputs": [
    {
     "data": {
      "text/plain": [
       "8"
      ]
     },
     "execution_count": 3,
     "metadata": {},
     "output_type": "execute_result"
    }
   ],
   "source": [
    "a=np.array([1,2])\n",
    "b=np.array([2,3])\n",
    "dot_product=np.dot(a,b)\n",
    "dot_product"
   ]
  },
  {
   "cell_type": "code",
   "execution_count": 4,
   "id": "27bc3553-6fa6-4896-a783-afc63be15d02",
   "metadata": {},
   "outputs": [
    {
     "data": {
      "text/plain": [
       "20"
      ]
     },
     "execution_count": 4,
     "metadata": {},
     "output_type": "execute_result"
    }
   ],
   "source": [
    "c=np.array([1,2,3])\n",
    "d=np.array([2,3,4])\n",
    "dot_product=np.dot(c,d)\n",
    "dot_product"
   ]
  },
  {
   "cell_type": "code",
   "execution_count": 5,
   "id": "cb262b55-4ebc-46ed-bbaf-3982b4c54dd4",
   "metadata": {},
   "outputs": [
    {
     "ename": "ValueError",
     "evalue": "shapes (2,) and (3,) not aligned: 2 (dim 0) != 3 (dim 0)",
     "output_type": "error",
     "traceback": [
      "\u001b[1;31m---------------------------------------------------------------------------\u001b[0m",
      "\u001b[1;31mValueError\u001b[0m                                Traceback (most recent call last)",
      "Cell \u001b[1;32mIn[5], line 3\u001b[0m\n\u001b[0;32m      1\u001b[0m x\u001b[38;5;241m=\u001b[39mnp\u001b[38;5;241m.\u001b[39marray([\u001b[38;5;241m1\u001b[39m,\u001b[38;5;241m2\u001b[39m])\n\u001b[0;32m      2\u001b[0m y\u001b[38;5;241m=\u001b[39mnp\u001b[38;5;241m.\u001b[39marray([\u001b[38;5;241m2\u001b[39m,\u001b[38;5;241m3\u001b[39m,\u001b[38;5;241m1\u001b[39m])\n\u001b[1;32m----> 3\u001b[0m dot_product\u001b[38;5;241m=\u001b[39mnp\u001b[38;5;241m.\u001b[39mdot(x,y)\n\u001b[0;32m      4\u001b[0m dot_product\n",
      "\u001b[1;31mValueError\u001b[0m: shapes (2,) and (3,) not aligned: 2 (dim 0) != 3 (dim 0)"
     ]
    }
   ],
   "source": [
    "x=np.array([1,2])\n",
    "y=np.array([2,3,1])\n",
    "dot_product=np.dot(x,y)\n",
    "dot_product"
   ]
  },
  {
   "cell_type": "markdown",
   "id": "1391fabd-6a1b-4a7c-820c-bd3679c64135",
   "metadata": {},
   "source": [
    "# Matrix Multiplication"
   ]
  },
  {
   "cell_type": "code",
   "execution_count": 6,
   "id": "df1c1ec0-ed10-44c2-8ac7-715faaf4091e",
   "metadata": {},
   "outputs": [
    {
     "name": "stdout",
     "output_type": "stream",
     "text": [
      "[[10 13]\n",
      " [22 29]]\n"
     ]
    }
   ],
   "source": [
    "A=np.array([[1,2],[3,4]])\n",
    "B=np.array([[2,3],[4,5]])\n",
    "product=np.matmul(A,B)\n",
    "print(product)"
   ]
  },
  {
   "cell_type": "code",
   "execution_count": 7,
   "id": "e4addacb-5483-4f6c-8d29-0c906b40ce2a",
   "metadata": {},
   "outputs": [
    {
     "name": "stdout",
     "output_type": "stream",
     "text": [
      "[[11 16]\n",
      " [19 28]]\n"
     ]
    }
   ],
   "source": [
    "product=np.matmul(B,A)\n",
    "print(product)"
   ]
  },
  {
   "cell_type": "code",
   "execution_count": 9,
   "id": "ab7150c7-56a5-40d6-b7e0-8a1118a8bad9",
   "metadata": {},
   "outputs": [
    {
     "name": "stdout",
     "output_type": "stream",
     "text": [
      "[10 11]\n"
     ]
    }
   ],
   "source": [
    "C=np.array([1,2])\n",
    "D=np.array([[4,1],[3,5]])\n",
    "product=np.matmul(C,D)\n",
    "print(product)"
   ]
  },
  {
   "cell_type": "code",
   "execution_count": 17,
   "id": "a356ef79-8f40-4b8f-a3d3-f040fda22b99",
   "metadata": {},
   "outputs": [
    {
     "data": {
      "text/plain": [
       "-2.0000000000000004"
      ]
     },
     "execution_count": 17,
     "metadata": {},
     "output_type": "execute_result"
    }
   ],
   "source": [
    "A=np.array([[1,2],[3,4]])\n",
    "determinant=np.linalg.det(A)\n",
    "determinant"
   ]
  },
  {
   "cell_type": "code",
   "execution_count": 20,
   "id": "8d90eaff-f18d-43af-a7f8-b7268a92736f",
   "metadata": {},
   "outputs": [
    {
     "data": {
      "text/plain": [
       "6.66133814775094e-16"
      ]
     },
     "execution_count": 20,
     "metadata": {},
     "output_type": "execute_result"
    }
   ],
   "source": [
    "B=np.array([[1,2,3],[4,5,6],[7,8,9]])\n",
    "determinant=np.linalg.det(B)\n",
    "determinant"
   ]
  },
  {
   "cell_type": "code",
   "execution_count": 21,
   "id": "b1187e1f-918e-4db5-a3fc-21ac53de82f5",
   "metadata": {},
   "outputs": [
    {
     "data": {
      "text/plain": [
       "array([[1, 4, 7],\n",
       "       [2, 5, 8],\n",
       "       [3, 6, 9]])"
      ]
     },
     "execution_count": 21,
     "metadata": {},
     "output_type": "execute_result"
    }
   ],
   "source": [
    "Transpose=np.transpose(B)\n",
    "Transpose"
   ]
  },
  {
   "cell_type": "code",
   "execution_count": 22,
   "id": "5c9843f1-f6d3-4c9b-b36f-667d259af66f",
   "metadata": {},
   "outputs": [
    {
     "data": {
      "text/plain": [
       "array([[1, 4],\n",
       "       [2, 5],\n",
       "       [3, 6]])"
      ]
     },
     "execution_count": 22,
     "metadata": {},
     "output_type": "execute_result"
    }
   ],
   "source": [
    "c=np.array([[1,2,3],[4,5,6]])\n",
    "Transpose=np.transpose(c)\n",
    "Transpose"
   ]
  },
  {
   "cell_type": "code",
   "execution_count": 23,
   "id": "a5672d39-60c9-402c-b0a8-a8aabfbff37e",
   "metadata": {},
   "outputs": [
    {
     "data": {
      "text/plain": [
       "array([[-2. ,  1. ],\n",
       "       [ 1.5, -0.5]])"
      ]
     },
     "execution_count": 23,
     "metadata": {},
     "output_type": "execute_result"
    }
   ],
   "source": [
    "A=np.array([[1,2],[3,4]])\n",
    "Inverse=np.linalg.inv(A)\n",
    "Inverse"
   ]
  },
  {
   "cell_type": "code",
   "execution_count": 25,
   "id": "b8a3b708-fdf8-4d10-b1d5-e249d90149aa",
   "metadata": {},
   "outputs": [
    {
     "ename": "ValueError",
     "evalue": "setting an array element with a sequence. The requested array has an inhomogeneous shape after 1 dimensions. The detected shape was (3,) + inhomogeneous part.",
     "output_type": "error",
     "traceback": [
      "\u001b[1;31m---------------------------------------------------------------------------\u001b[0m",
      "\u001b[1;31mValueError\u001b[0m                                Traceback (most recent call last)",
      "Cell \u001b[1;32mIn[25], line 1\u001b[0m\n\u001b[1;32m----> 1\u001b[0m B\u001b[38;5;241m=\u001b[39mnp\u001b[38;5;241m.\u001b[39marray([[\u001b[38;5;241m1\u001b[39m,\u001b[38;5;241m2\u001b[39m,\u001b[38;5;241m3\u001b[39m],[\u001b[38;5;241m4\u001b[39m,\u001b[38;5;241m5\u001b[39m,\u001b[38;5;241m6\u001b[39m],[\u001b[38;5;241m7\u001b[39m,\u001b[38;5;241m8\u001b[39m]])\n\u001b[0;32m      2\u001b[0m Inverse\u001b[38;5;241m=\u001b[39mnp\u001b[38;5;241m.\u001b[39mlinalg\u001b[38;5;241m.\u001b[39minv(B)\n\u001b[0;32m      3\u001b[0m Inverse\n",
      "\u001b[1;31mValueError\u001b[0m: setting an array element with a sequence. The requested array has an inhomogeneous shape after 1 dimensions. The detected shape was (3,) + inhomogeneous part."
     ]
    }
   ],
   "source": [
    "B=np.array([[1,2,3],[4,5,6],[7,8]])\n",
    "Inverse=np.linalg.inv(B)\n",
    "Inverse"
   ]
  },
  {
   "cell_type": "markdown",
   "id": "895bf739-7cbd-4979-b0a4-dd7b5ee838d3",
   "metadata": {},
   "source": [
    "# System of Linear Equations"
   ]
  },
  {
   "cell_type": "code",
   "execution_count": 26,
   "id": "81fb3141-c4d5-493f-a4ad-30fa775f7e2b",
   "metadata": {},
   "outputs": [
    {
     "data": {
      "text/plain": [
       "array([[-4. ],\n",
       "       [ 4.5]])"
      ]
     },
     "execution_count": 26,
     "metadata": {},
     "output_type": "execute_result"
    }
   ],
   "source": [
    "A=np.array([[1,2],[3,4]])\n",
    "B=np.array([[5],[6]])\n",
    "solution=np.linalg.solve(A,B)\n",
    "solution"
   ]
  },
  {
   "cell_type": "code",
   "execution_count": 27,
   "id": "251b9c9c-98da-4799-9d1d-33c768a8c670",
   "metadata": {},
   "outputs": [
    {
     "data": {
      "text/plain": [
       "array([[-9.33333333e+00],\n",
       "       [ 9.66666667e+00],\n",
       "       [ 3.55271368e-15]])"
      ]
     },
     "execution_count": 27,
     "metadata": {},
     "output_type": "execute_result"
    }
   ],
   "source": [
    "A=np.array([[1,2,3],[4,5,6],[7,8,10]])\n",
    "B=np.array([[10],[11],[12]])\n",
    "solution=np.linalg.solve(A,B)\n",
    "solution"
   ]
  },
  {
   "cell_type": "markdown",
   "id": "b4edf88c-8be1-4d18-a639-79ecafe42edd",
   "metadata": {},
   "source": [
    "# Eigen Value and Eigen Vector"
   ]
  },
  {
   "cell_type": "code",
   "execution_count": 28,
   "id": "623ff2fb-e8f5-4793-ac4e-3b6ec00984d9",
   "metadata": {},
   "outputs": [
    {
     "name": "stdout",
     "output_type": "stream",
     "text": [
      "[6. 1.]\n",
      "[[ 0.9701425  -0.70710678]\n",
      " [ 0.24253563  0.70710678]]\n"
     ]
    }
   ],
   "source": [
    "A=np.array([[5,4],[1,2]])\n",
    "eigenvalues,eigenvectors=np.linalg.eig(A)\n",
    "print(eigenvalues)\n",
    "print(eigenvectors)"
   ]
  },
  {
   "cell_type": "code",
   "execution_count": null,
   "id": "8d7aaba8-4dd8-44bb-9920-59f7bc7fc942",
   "metadata": {},
   "outputs": [],
   "source": []
  }
 ],
 "metadata": {
  "kernelspec": {
   "display_name": "Python 3 (ipykernel)",
   "language": "python",
   "name": "python3"
  },
  "language_info": {
   "codemirror_mode": {
    "name": "ipython",
    "version": 3
   },
   "file_extension": ".py",
   "mimetype": "text/x-python",
   "name": "python",
   "nbconvert_exporter": "python",
   "pygments_lexer": "ipython3",
   "version": "3.11.7"
  }
 },
 "nbformat": 4,
 "nbformat_minor": 5
}
