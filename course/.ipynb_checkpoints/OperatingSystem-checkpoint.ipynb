{
 "cells": [
  {
   "cell_type": "code",
   "execution_count": 1,
   "id": "681455db-2936-4b8c-8e85-d703acc8b2e1",
   "metadata": {},
   "outputs": [],
   "source": [
    "import os"
   ]
  },
  {
   "cell_type": "code",
   "execution_count": 2,
   "id": "ad551fd8-8afe-4330-bde1-3b4cd762a3f6",
   "metadata": {},
   "outputs": [
    {
     "data": {
      "text/plain": [
       "'C:\\\\Users\\\\hp\\\\Documents\\\\course'"
      ]
     },
     "execution_count": 2,
     "metadata": {},
     "output_type": "execute_result"
    }
   ],
   "source": [
    "os.getcwd()"
   ]
  },
  {
   "cell_type": "code",
   "execution_count": 3,
   "id": "9bba1217-0993-4e56-8d9c-88ee20de756b",
   "metadata": {},
   "outputs": [
    {
     "data": {
      "text/plain": [
       "'C:\\\\Users\\\\hp\\\\Documents\\\\course'"
      ]
     },
     "execution_count": 3,
     "metadata": {},
     "output_type": "execute_result"
    }
   ],
   "source": [
    "pwd"
   ]
  },
  {
   "cell_type": "code",
   "execution_count": 4,
   "id": "cf5b6434-4abb-4ae2-82fe-4e84cf8b85c8",
   "metadata": {},
   "outputs": [
    {
     "name": "stdout",
     "output_type": "stream",
     "text": [
      " Volume in drive C is Windows\n",
      " Volume Serial Number is 0AFA-0987\n",
      "\n",
      " Directory of C:\\Users\\hp\\Documents\\course\n",
      "\n",
      "10-10-2024  11:23    <DIR>          .\n",
      "06-10-2024  18:23    <DIR>          ..\n",
      "10-10-2024  11:21    <DIR>          .ipynb_checkpoints\n",
      "06-09-2024  20:08             5,406 Data reading from file.ipynb\n",
      "06-09-2024  19:35                50 data.txt\n",
      "07-10-2024  23:57    <DIR>          InventoryManagementSystem\n",
      "09-10-2024  01:29    <DIR>          InventoryManagementSystemUsingJason\n",
      "10-10-2024  11:23             1,565 OperatingSystem.ipynb\n",
      "06-09-2024  20:08             1,288 Writing data on text file.ipynb\n",
      "               4 File(s)          8,309 bytes\n",
      "               5 Dir(s)  58,826,022,912 bytes free\n"
     ]
    }
   ],
   "source": [
    "ls"
   ]
  },
  {
   "cell_type": "code",
   "execution_count": 5,
   "id": "4e86f1c4-f8d7-4d21-a474-3b30e0cd6790",
   "metadata": {},
   "outputs": [],
   "source": [
    "os.chdir(\"InventoryManagementSystem\")"
   ]
  },
  {
   "cell_type": "code",
   "execution_count": 6,
   "id": "6de04abf-6ba0-48d2-acf7-2df2603ea8c9",
   "metadata": {},
   "outputs": [
    {
     "data": {
      "text/plain": [
       "'C:\\\\Users\\\\hp\\\\Documents\\\\course\\\\InventoryManagementSystem'"
      ]
     },
     "execution_count": 6,
     "metadata": {},
     "output_type": "execute_result"
    }
   ],
   "source": [
    "os.getcwd()"
   ]
  },
  {
   "cell_type": "code",
   "execution_count": 8,
   "id": "29df7944-40b4-46b1-aa79-75bb3c5c92a9",
   "metadata": {},
   "outputs": [
    {
     "name": "stdout",
     "output_type": "stream",
     "text": [
      "C:\\Users\\hp\\Documents\\course\n"
     ]
    }
   ],
   "source": [
    "cd .."
   ]
  },
  {
   "cell_type": "code",
   "execution_count": 9,
   "id": "0666304b-0a0d-49fd-829f-3f73e50eb705",
   "metadata": {},
   "outputs": [
    {
     "data": {
      "text/plain": [
       "'C:\\\\Users\\\\hp\\\\Documents\\\\course'"
      ]
     },
     "execution_count": 9,
     "metadata": {},
     "output_type": "execute_result"
    }
   ],
   "source": [
    "os.getcwd()"
   ]
  },
  {
   "cell_type": "code",
   "execution_count": 10,
   "id": "481722e4-1554-4dbe-8474-280941ed71cb",
   "metadata": {},
   "outputs": [],
   "source": [
    "os.chdir(\"InventoryManagementSystem\")"
   ]
  },
  {
   "cell_type": "code",
   "execution_count": 11,
   "id": "3a1789ec-846a-448e-8a53-9ec916c50541",
   "metadata": {},
   "outputs": [],
   "source": [
    "os.chdir(\"../\")"
   ]
  },
  {
   "cell_type": "code",
   "execution_count": 12,
   "id": "0ebe55c8-d7c8-4ec1-b8c5-4433ebf0d998",
   "metadata": {},
   "outputs": [
    {
     "data": {
      "text/plain": [
       "'C:\\\\Users\\\\hp\\\\Documents\\\\course'"
      ]
     },
     "execution_count": 12,
     "metadata": {},
     "output_type": "execute_result"
    }
   ],
   "source": [
    "os.getcwd()"
   ]
  },
  {
   "cell_type": "code",
   "execution_count": 13,
   "id": "78017583-2b39-4267-9774-f5de502476ff",
   "metadata": {},
   "outputs": [],
   "source": [
    "os.mkdir(\"GFG\")"
   ]
  },
  {
   "cell_type": "code",
   "execution_count": 14,
   "id": "cf0ae49c-6b76-4bb3-b5b8-249b231cccf9",
   "metadata": {},
   "outputs": [
    {
     "name": "stdout",
     "output_type": "stream",
     "text": [
      " Volume in drive C is Windows\n",
      " Volume Serial Number is 0AFA-0987\n",
      "\n",
      " Directory of C:\\Users\\hp\\Documents\\course\n",
      "\n",
      "10-10-2024  11:27    <DIR>          .\n",
      "06-10-2024  18:23    <DIR>          ..\n",
      "10-10-2024  11:21    <DIR>          .ipynb_checkpoints\n",
      "06-09-2024  20:08             5,406 Data reading from file.ipynb\n",
      "06-09-2024  19:35                50 data.txt\n",
      "10-10-2024  11:27    <DIR>          GFG\n",
      "07-10-2024  23:57    <DIR>          InventoryManagementSystem\n",
      "09-10-2024  01:29    <DIR>          InventoryManagementSystemUsingJason\n",
      "10-10-2024  11:27             4,857 OperatingSystem.ipynb\n",
      "06-09-2024  20:08             1,288 Writing data on text file.ipynb\n",
      "               4 File(s)         11,601 bytes\n",
      "               6 Dir(s)  58,825,560,064 bytes free\n"
     ]
    }
   ],
   "source": [
    "ls"
   ]
  },
  {
   "cell_type": "code",
   "execution_count": 15,
   "id": "e982cd06-5ccd-4804-8ede-febc133e9315",
   "metadata": {},
   "outputs": [],
   "source": [
    "os.makedirs(\"GFG/GFG1/GFG2/GFG3\")"
   ]
  },
  {
   "cell_type": "code",
   "execution_count": 16,
   "id": "402f2846-362b-4a3a-8a46-e1b56a70a90a",
   "metadata": {},
   "outputs": [
    {
     "data": {
      "text/plain": [
       "'GFG\\\\GFG'"
      ]
     },
     "execution_count": 16,
     "metadata": {},
     "output_type": "execute_result"
    }
   ],
   "source": [
    "os.path.join(\"GFG\",\"GFG\")"
   ]
  },
  {
   "cell_type": "code",
   "execution_count": 17,
   "id": "a07a1225-7e93-496f-865f-b5b3f8ab3cad",
   "metadata": {},
   "outputs": [
    {
     "name": "stdout",
     "output_type": "stream",
     "text": [
      " Volume in drive C is Windows\n",
      " Volume Serial Number is 0AFA-0987\n",
      "\n",
      " Directory of C:\\Users\\hp\\Documents\\course\n",
      "\n",
      "10-10-2024  11:31    <DIR>          .\n",
      "06-10-2024  18:23    <DIR>          ..\n",
      "10-10-2024  11:21    <DIR>          .ipynb_checkpoints\n",
      "06-09-2024  20:08             5,406 Data reading from file.ipynb\n",
      "06-09-2024  19:35                50 data.txt\n",
      "10-10-2024  11:28    <DIR>          GFG\n",
      "07-10-2024  23:57    <DIR>          InventoryManagementSystem\n",
      "09-10-2024  01:29    <DIR>          InventoryManagementSystemUsingJason\n",
      "10-10-2024  11:31             6,810 OperatingSystem.ipynb\n",
      "06-09-2024  20:08             1,288 Writing data on text file.ipynb\n",
      "               4 File(s)         13,554 bytes\n",
      "               6 Dir(s)  58,846,244,864 bytes free\n"
     ]
    }
   ],
   "source": [
    "ls"
   ]
  },
  {
   "cell_type": "code",
   "execution_count": 18,
   "id": "e6dacfcc-38ce-47be-9efd-d80c4c13e464",
   "metadata": {},
   "outputs": [
    {
     "data": {
      "text/plain": [
       "'C:\\\\Users\\\\hp\\\\Documents\\\\course'"
      ]
     },
     "execution_count": 18,
     "metadata": {},
     "output_type": "execute_result"
    }
   ],
   "source": [
    "os.getcwd()"
   ]
  },
  {
   "cell_type": "code",
   "execution_count": 19,
   "id": "a7b7abd4-6575-4b33-956a-809e15c49683",
   "metadata": {},
   "outputs": [
    {
     "data": {
      "text/plain": [
       "'C:\\\\Users\\\\hp\\\\Documents\\\\course'"
      ]
     },
     "execution_count": 19,
     "metadata": {},
     "output_type": "execute_result"
    }
   ],
   "source": [
    "pwd"
   ]
  },
  {
   "cell_type": "code",
   "execution_count": 24,
   "id": "14d2629e-fa35-404d-b18f-bab224a4420e",
   "metadata": {},
   "outputs": [
    {
     "name": "stdout",
     "output_type": "stream",
     "text": [
      " Volume in drive C is Windows\n",
      " Volume Serial Number is 0AFA-0987\n",
      "\n",
      " Directory of C:\\Users\\hp\\Documents\\course\n",
      "\n",
      "10-10-2024  11:37    <DIR>          .\n",
      "06-10-2024  18:23    <DIR>          ..\n",
      "10-10-2024  11:21    <DIR>          .ipynb_checkpoints\n",
      "06-09-2024  20:08             5,406 Data reading from file.ipynb\n",
      "06-09-2024  19:35                50 data.txt\n",
      "10-10-2024  11:28    <DIR>          GFG\n",
      "07-10-2024  23:57    <DIR>          InventoryManagementSystem\n",
      "09-10-2024  01:29    <DIR>          InventoryManagementSystemUsingJason\n",
      "10-10-2024  11:37             8,786 OperatingSystem.ipynb\n",
      "06-09-2024  20:08             1,288 Writing data on text file.ipynb\n",
      "               4 File(s)         15,530 bytes\n",
      "               6 Dir(s)  58,845,204,480 bytes free\n"
     ]
    }
   ],
   "source": [
    "ls"
   ]
  },
  {
   "cell_type": "code",
   "execution_count": 25,
   "id": "fd9f7168-f4bc-4f4f-a3ce-20a77c2c4c5c",
   "metadata": {},
   "outputs": [],
   "source": [
    "os.remove(\"temp.txt\")"
   ]
  },
  {
   "cell_type": "code",
   "execution_count": 26,
   "id": "dba37606-086c-4b9c-9e16-00e9f3bdad31",
   "metadata": {},
   "outputs": [
    {
     "name": "stdout",
     "output_type": "stream",
     "text": [
      " Volume in drive C is Windows\n",
      " Volume Serial Number is 0AFA-0987\n",
      "\n",
      " Directory of C:\\Users\\hp\\Documents\\course\n",
      "\n",
      "10-10-2024  11:39    <DIR>          .\n",
      "06-10-2024  18:23    <DIR>          ..\n",
      "10-10-2024  11:21    <DIR>          .ipynb_checkpoints\n",
      "06-09-2024  20:08             5,406 Data reading from file.ipynb\n",
      "06-09-2024  19:35                50 data.txt\n",
      "10-10-2024  11:28    <DIR>          GFG\n",
      "07-10-2024  23:57    <DIR>          InventoryManagementSystem\n",
      "09-10-2024  01:29    <DIR>          InventoryManagementSystemUsingJason\n",
      "10-10-2024  11:39            10,024 OperatingSystem.ipynb\n",
      "06-09-2024  20:08             1,288 Writing data on text file.ipynb\n",
      "               4 File(s)         16,768 bytes\n",
      "               6 Dir(s)  58,843,975,680 bytes free\n"
     ]
    }
   ],
   "source": [
    "ls"
   ]
  },
  {
   "cell_type": "code",
   "execution_count": 30,
   "id": "17deceb5-7690-4bdd-b470-c1fadccf3848",
   "metadata": {},
   "outputs": [
    {
     "ename": "PermissionError",
     "evalue": "[WinError 5] Access is denied: 'GFG/GFG1/GFG2/GFG3'",
     "output_type": "error",
     "traceback": [
      "\u001b[1;31m---------------------------------------------------------------------------\u001b[0m",
      "\u001b[1;31mPermissionError\u001b[0m                           Traceback (most recent call last)",
      "Cell \u001b[1;32mIn[30], line 1\u001b[0m\n\u001b[1;32m----> 1\u001b[0m os\u001b[38;5;241m.\u001b[39mremove(\u001b[38;5;124m'\u001b[39m\u001b[38;5;124mGFG/GFG1/GFG2/GFG3\u001b[39m\u001b[38;5;124m'\u001b[39m)\n",
      "\u001b[1;31mPermissionError\u001b[0m: [WinError 5] Access is denied: 'GFG/GFG1/GFG2/GFG3'"
     ]
    }
   ],
   "source": [
    "os.remove('GFG/GFG1/GFG2/GFG3')\n"
   ]
  },
  {
   "cell_type": "code",
   "execution_count": 32,
   "id": "fe42d68a-6646-41ba-b88c-ee35b3cdf7a1",
   "metadata": {},
   "outputs": [
    {
     "data": {
      "text/plain": [
       "['GFG1']"
      ]
     },
     "execution_count": 32,
     "metadata": {},
     "output_type": "execute_result"
    }
   ],
   "source": [
    "os.listdir(\"GFG\")"
   ]
  },
  {
   "cell_type": "code",
   "execution_count": 35,
   "id": "3bc51bd1-8968-47b3-aee1-575aa8e20173",
   "metadata": {},
   "outputs": [
    {
     "name": "stderr",
     "output_type": "stream",
     "text": [
      "The system cannot find the file specified.\n"
     ]
    }
   ],
   "source": [
    "rmdir -r \"temp\""
   ]
  },
  {
   "cell_type": "code",
   "execution_count": 36,
   "id": "fa2a946e-f17f-4b46-ac13-7bd2fe104829",
   "metadata": {},
   "outputs": [],
   "source": [
    "!touch file.txt"
   ]
  },
  {
   "cell_type": "code",
   "execution_count": 37,
   "id": "970a3b6f-95dc-4038-8e46-925100981090",
   "metadata": {},
   "outputs": [],
   "source": [
    "os.rename(\"file.txt\",\"fl.txt\")"
   ]
  },
  {
   "cell_type": "code",
   "execution_count": 38,
   "id": "600887b4-897f-4e18-b043-4c59eae71b88",
   "metadata": {},
   "outputs": [],
   "source": [
    "os.remove(\"fl.txt\")"
   ]
  },
  {
   "cell_type": "code",
   "execution_count": 39,
   "id": "6c9124ef-426b-484b-972d-7375b847840c",
   "metadata": {},
   "outputs": [
    {
     "data": {
      "text/plain": [
       "True"
      ]
     },
     "execution_count": 39,
     "metadata": {},
     "output_type": "execute_result"
    }
   ],
   "source": [
    "os.path.exists(\"data.txt\")"
   ]
  },
  {
   "cell_type": "code",
   "execution_count": 41,
   "id": "e452fad0-4fa0-49d2-8f46-484c9edc0c89",
   "metadata": {},
   "outputs": [],
   "source": [
    "if os.path.exists(\"data2.txt\"):\n",
    "    print(\"File already exists\")\n",
    "else:\n",
    "    os.mkdir(\"data2.txt\")"
   ]
  },
  {
   "cell_type": "code",
   "execution_count": 44,
   "id": "904681d2-4565-4cec-817a-6fbbb7f15f0d",
   "metadata": {},
   "outputs": [
    {
     "name": "stderr",
     "output_type": "stream",
     "text": [
      "The system cannot find the file specified.\n"
     ]
    }
   ],
   "source": [
    "rmdir -r \"data2.txt\""
   ]
  },
  {
   "cell_type": "code",
   "execution_count": 45,
   "id": "0b123435-c8fa-4f2b-8692-6d4bb6703a33",
   "metadata": {},
   "outputs": [],
   "source": [
    "mkdir Test"
   ]
  },
  {
   "cell_type": "code",
   "execution_count": 46,
   "id": "d1073cb2-7547-4c35-80e1-397cf45b8f14",
   "metadata": {},
   "outputs": [],
   "source": [
    "for i in range(10):\n",
    "    name=\"Test/Test\"+str(i)\n",
    "    os.mkdir(name)"
   ]
  },
  {
   "cell_type": "code",
   "execution_count": 48,
   "id": "85439d64-efe7-40e0-8dc0-aeb77b22da9e",
   "metadata": {},
   "outputs": [],
   "source": [
    "files=os.listdir(\"Files\")"
   ]
  },
  {
   "cell_type": "code",
   "execution_count": 49,
   "id": "ffab64d7-0859-4563-ae3e-ebc313e59980",
   "metadata": {},
   "outputs": [
    {
     "data": {
      "text/plain": [
       "['.ipynb_checkpoints', 'file1.txt', 'file2.txt', 'file3.txt']"
      ]
     },
     "execution_count": 49,
     "metadata": {},
     "output_type": "execute_result"
    }
   ],
   "source": [
    "files"
   ]
  },
  {
   "cell_type": "code",
   "execution_count": 50,
   "id": "be7b7693-ebce-43a6-bf5f-bf65714924e0",
   "metadata": {},
   "outputs": [
    {
     "data": {
      "text/plain": [
       "4"
      ]
     },
     "execution_count": 50,
     "metadata": {},
     "output_type": "execute_result"
    }
   ],
   "source": [
    "len(files)"
   ]
  },
  {
   "cell_type": "code",
   "execution_count": 51,
   "id": "2d45d75c-88e2-4a4c-898b-998f6c9a66ce",
   "metadata": {},
   "outputs": [
    {
     "data": {
      "text/plain": [
       "list"
      ]
     },
     "execution_count": 51,
     "metadata": {},
     "output_type": "execute_result"
    }
   ],
   "source": [
    "type(files)"
   ]
  },
  {
   "cell_type": "code",
   "execution_count": 59,
   "id": "f47ce50c-2b29-4aa9-a408-863e617a7c30",
   "metadata": {},
   "outputs": [
    {
     "name": "stdout",
     "output_type": "stream",
     "text": [
      "This is file1.\n",
      "This is file2\n",
      "This is file3\n"
     ]
    }
   ],
   "source": [
    "for i in files:\n",
    "    if(i!=\".ipynb_checkpoints\"):\n",
    "        name=\"files\"+\"/\"+i;\n",
    "        fd=open(name,\"r\")\n",
    "        print(fd.read())\n",
    "        fd.close()"
   ]
  },
  {
   "cell_type": "code",
   "execution_count": 54,
   "id": "da205a5a-2b5e-4400-8272-21adf178ecfb",
   "metadata": {},
   "outputs": [
    {
     "name": "stdout",
     "output_type": "stream",
     "text": [
      "This is file1.\n"
     ]
    }
   ],
   "source": [
    "fd=open(\"files/file1.txt\",\"r\")\n",
    "print(fd.read())\n",
    "fd.close() "
   ]
  },
  {
   "cell_type": "markdown",
   "id": "68418b07-c397-497b-a2b9-d5ccdcae19e2",
   "metadata": {},
   "source": [
    "# combining the data"
   ]
  },
  {
   "cell_type": "code",
   "execution_count": 64,
   "id": "71aea9a6-fc57-413d-93cc-b957f13a7735",
   "metadata": {},
   "outputs": [],
   "source": [
    "fd_write=open(\"combFinal.txt\",\"a\")\n",
    "\n",
    "for i in files:\n",
    "    if(i!=\".ipynb_checkpoints\"):\n",
    "        fd_read=open(\"files/\"+i,\"r\")\n",
    "        fd_write.write(fd_read.read()+'\\n')\n",
    "        fd_read.close()\n",
    "fd_write.close()"
   ]
  },
  {
   "cell_type": "code",
   "execution_count": null,
   "id": "37f0dad8-93a5-49d2-890d-844c872b8204",
   "metadata": {},
   "outputs": [],
   "source": []
  }
 ],
 "metadata": {
  "kernelspec": {
   "display_name": "Python 3 (ipykernel)",
   "language": "python",
   "name": "python3"
  },
  "language_info": {
   "codemirror_mode": {
    "name": "ipython",
    "version": 3
   },
   "file_extension": ".py",
   "mimetype": "text/x-python",
   "name": "python",
   "nbconvert_exporter": "python",
   "pygments_lexer": "ipython3",
   "version": "3.11.7"
  }
 },
 "nbformat": 4,
 "nbformat_minor": 5
}
