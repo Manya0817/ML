{
 "cells": [
  {
   "cell_type": "code",
   "execution_count": 53,
   "id": "eda4e6dd-23eb-4ce0-93ea-23a4c03e52ae",
   "metadata": {},
   "outputs": [
    {
     "name": "stdout",
     "output_type": "stream",
     "text": [
      "---------------------------MENU-------------------------------\n",
      "\n",
      "1001 : 5 Star | 10 | 177\n",
      "1002 : Bar-One | 20 | 80\n",
      "1003 : Candy | 2 | 997\n",
      "1004 : Chocolate Cake | 550 | 8\n",
      "1005 : Blueberry Cake | 650 | 0\n",
      "--------------------------------------------------------------\n",
      "\n"
     ]
    },
    {
     "name": "stdin",
     "output_type": "stream",
     "text": [
      "Enter your name  : n\n",
      "Enter mail id: s\n",
      "Enter phone no: 2\n",
      "Enter Product ID : 1004\n",
      "Enter Quantity : 3\n"
     ]
    },
    {
     "name": "stdout",
     "output_type": "stream",
     "text": [
      "--------------------------------------------------------------\n",
      "\n",
      "                     BILL                                     \n",
      "\n",
      "Name                : Chocolate Cake\n",
      "Price(in Rs)        : 550\n",
      "Quantity            : 3\n",
      "--------------------------------------------------------------\n",
      "\n",
      "Billing Amount      : 1650 Rs\n",
      "--------------------------------------------------------------\n",
      "\n",
      "\n",
      "******************************\n",
      "Thanks for your order, Inventory Updated!\n",
      "******************************\n"
     ]
    }
   ],
   "source": [
    "#importing the libraries\n",
    "\n",
    "import json\n",
    "import time\n",
    "\n",
    "#Initializing variables\n",
    "sales=\"\"\n",
    "\n",
    "# Loading the inventory records from JSON to string\n",
    "\n",
    "fd = open('Records.json', 'r')\n",
    "js = fd.read()\n",
    "fd.close()\n",
    "\n",
    "# Converting the string records in JSON/Dictionaries\n",
    "record = json.loads(js)\n",
    "\n",
    "# Print the menu\n",
    "print(\"---------------------------MENU-------------------------------\\n\")\n",
    "\n",
    "for key in record.keys():\n",
    "    print(key, \":\", record[key]['Name'], \"|\", record[key]['Price'], \"|\", record[key]['Qn'])\n",
    "\n",
    "print(\"--------------------------------------------------------------\\n\")\n",
    "\n",
    "# Input from user\n",
    "ui_name=str(input(\"Enter your name  :\"))\n",
    "ui_mail=str(input(\"Enter mail id:\"))\n",
    "ui_ph=str(input(\"Enter phone no:\"))\n",
    "ui_pr = str(input(\"Enter Product ID :\"))\n",
    "ui_qn = int(input(\"Enter Quantity :\"))\n",
    "\n",
    "#If we are having equal or more quantity than user want\n",
    "if(record[ui_pr]['Qn']>=ui_qn):\n",
    "\n",
    "    print(\"--------------------------------------------------------------\\n\")\n",
    "    print(\"                     BILL                                     \\n\")  \n",
    "    \n",
    "    # Check if the entered product ID exists in the record\n",
    "    \n",
    "    print(\"Name                :\", record[ui_pr]['Name'])\n",
    "    print(\"Price(in Rs)        :\", record[ui_pr]['Price'])\n",
    "    print(\"Quantity            :\", ui_qn)\n",
    "    \n",
    "    print(\"--------------------------------------------------------------\\n\")\n",
    "    print(\"Billing Amount      :\", record[ui_pr]['Price'] * ui_qn, \"Rs\")\n",
    "    \n",
    "    # Update the record with new quantity\n",
    "    record[ui_pr]['Qn'] -= ui_qn\n",
    "    \n",
    "    print(\"--------------------------------------------------------------\\n\")\n",
    "    sales=ui_name+\",\"+ui_mail+\",\"+ui_ph+\",\"+ui_pr+\",\"+record[ui_pr]['Name']+\",\"+str(ui_qn)+\",\"+str(record[ui_pr]['Price'])+\",\"+str(ui_qn*record[ui_pr]['Price'])+\",\"+time.ctime()+'\\n'\n",
    "#If we are not having equal or more quantity than user want\n",
    "else:\n",
    "    print(\"Sorry we are not having enouugh quantity in our inventory.\")\n",
    "    print(\"We're only having \",record[ui_pr]['Qn'],'quantity.')\n",
    "    print(\"--------------------------------------------------------------\\n\")\n",
    "    ch=str(input(\"Press Y/y to Purchase: \"))\n",
    "    if(ch=='Y' or ch=='y'):\n",
    "        print(\"--------------------------------------------------------------\\n\")\n",
    "        print(\"                     BILL                                     \\n\")  \n",
    "        \n",
    "        # Check if the entered product ID exists in the record\n",
    "        \n",
    "        print(\"Name                :\", record[ui_pr]['Name'])\n",
    "        print(\"Price(in Rs)        :\", record[ui_pr]['Price'])\n",
    "        print(\"Quantity            :\", record[ui_pr]['Qn'])\n",
    "        \n",
    "        print(\"--------------------------------------------------------------\\n\")\n",
    "        print(\"Billing Amount      :\", record[ui_pr]['Price'] * record[ui_pr]['Qn'], \"Rs\")\n",
    "        \n",
    "        #generating the sales\n",
    "        sales=ui_name+\",\"+ui_mail+\",\"+ui_ph+\",\"+ui_pr+\",\"+record[ui_pr]['Name']+\",\"+str(record[ui_pr]['Qn'])+\",\"+str(record[ui_pr]['Price'])+\",\"+str(record[ui_pr]['Qn']*record[ui_pr]['Price'])+\",\"+time.ctime()+'\\n'\n",
    "        # Update the record with new quantity\n",
    "        record[ui_pr]['Qn'] =0;\n",
    "    else:\n",
    "        print(\"Thanks\")\n",
    "        \n",
    "    print(\"--------------------------------------------------------------\\n\")\n",
    "\n",
    "# Write the updated record back to the file\n",
    "js = json.dumps(record)\n",
    "fd = open(\"Records.json\", 'w')\n",
    "fd.write(js)\n",
    "fd.close()\n",
    "\n",
    "fd=open('Sales.txt','a')\n",
    "fd.write(sales)\n",
    "fd.close()\n",
    "\n",
    "print('')\n",
    "print('*'*30)\n",
    "print(\"Thanks for your order, Inventory Updated!\")\n",
    "print('*'*30)"
   ]
  },
  {
   "cell_type": "code",
   "execution_count": 54,
   "id": "e68df740-a141-4aa9-b284-fafc3a7d1265",
   "metadata": {},
   "outputs": [
    {
     "data": {
      "text/plain": [
       "{'1001': {'Name': '5 Star', 'Price': 10, 'Qn': 177},\n",
       " '1002': {'Name': 'Bar-One', 'Price': 20, 'Qn': 80},\n",
       " '1003': {'Name': 'Candy', 'Price': 2, 'Qn': 997},\n",
       " '1004': {'Name': 'Chocolate Cake', 'Price': 550, 'Qn': 5},\n",
       " '1005': {'Name': 'Blueberry Cake', 'Price': 650, 'Qn': 0}}"
      ]
     },
     "execution_count": 54,
     "metadata": {},
     "output_type": "execute_result"
    }
   ],
   "source": [
    "record"
   ]
  }
 ],
 "metadata": {
  "kernelspec": {
   "display_name": "Python 3 (ipykernel)",
   "language": "python",
   "name": "python3"
  },
  "language_info": {
   "codemirror_mode": {
    "name": "ipython",
    "version": 3
   },
   "file_extension": ".py",
   "mimetype": "text/x-python",
   "name": "python",
   "nbconvert_exporter": "python",
   "pygments_lexer": "ipython3",
   "version": "3.11.7"
  }
 },
 "nbformat": 4,
 "nbformat_minor": 5
}
