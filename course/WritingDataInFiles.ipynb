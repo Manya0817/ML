{
 "cells": [
  {
   "cell_type": "code",
   "execution_count": 1,
   "id": "8886a2d4-4026-4431-a5ed-67e280d6b907",
   "metadata": {},
   "outputs": [],
   "source": [
    "import numpy as np"
   ]
  },
  {
   "cell_type": "markdown",
   "id": "4490c666-a0c2-4ad7-b0ca-435f6fc35dd6",
   "metadata": {},
   "source": [
    "# 1. Replacing existing content"
   ]
  },
  {
   "cell_type": "code",
   "execution_count": 3,
   "id": "6a722c87-26ea-42a1-a38f-1cd5484ba6e6",
   "metadata": {},
   "outputs": [],
   "source": [
    "data=np.array([1,2,3])\n",
    "np.savetxt('data-1.txt',data,delimiter=',')\n",
    "\n",
    "data=np.array([4,5,6])\n",
    "np.savetxt('data-2.txt',data,delimiter=',')\n"
   ]
  },
  {
   "cell_type": "markdown",
   "id": "6ccea2ee-280b-49ed-8a29-26e95088ccae",
   "metadata": {},
   "source": [
    "# 2. Appending the data on existing file"
   ]
  },
  {
   "cell_type": "code",
   "execution_count": 4,
   "id": "a063ddde-d711-4661-a641-8cd4efc2d5a6",
   "metadata": {},
   "outputs": [],
   "source": [
    "data=np.load('data.npy')\n",
    "np.savetxt('data.txt',data,delimiter=',')"
   ]
  },
  {
   "cell_type": "code",
   "execution_count": 1,
   "id": "d718d694-a80d-44f3-8967-4bc83ec091cc",
   "metadata": {},
   "outputs": [],
   "source": [
    "import numpy as np"
   ]
  },
  {
   "cell_type": "code",
   "execution_count": 10,
   "id": "c7b336f4-9ed3-4a30-b32c-512b386d7a5a",
   "metadata": {},
   "outputs": [
    {
     "name": "stdout",
     "output_type": "stream",
     "text": [
      "[1 2 3]\n"
     ]
    }
   ],
   "source": [
    "data=np.array([1,2,3])\n",
    "np.savetxt('data.txt',data,delimiter=',')\n",
    "print(data)"
   ]
  },
  {
   "cell_type": "code",
   "execution_count": 11,
   "id": "94774ca1-88cc-4785-aea2-269e5a416c61",
   "metadata": {},
   "outputs": [
    {
     "name": "stdout",
     "output_type": "stream",
     "text": [
      "[[1 2 3]\n",
      " [4 5 6]]\n"
     ]
    }
   ],
   "source": [
    "data = np.load('data.npy')\n",
    "print(data)"
   ]
  },
  {
   "cell_type": "code",
   "execution_count": 9,
   "id": "6c95a0fe-2203-4e46-bef4-7149f5add9b1",
   "metadata": {},
   "outputs": [
    {
     "name": "stdout",
     "output_type": "stream",
     "text": [
      "[[1 2 3]\n",
      " [4 5 6]]\n",
      "[[1 2 3]\n",
      " [4 5 6]]\n"
     ]
    }
   ],
   "source": [
    "data = np.load('data.npy')\n",
    "print(data)\n",
    "np.savetxt('data.txt', data, delimiter = ',')\n",
    "print(data)"
   ]
  },
  {
   "cell_type": "code",
   "execution_count": null,
   "id": "dfa86a32-0cee-4934-a812-baa98b482042",
   "metadata": {},
   "outputs": [],
   "source": []
  }
 ],
 "metadata": {
  "kernelspec": {
   "display_name": "Python 3 (ipykernel)",
   "language": "python",
   "name": "python3"
  },
  "language_info": {
   "codemirror_mode": {
    "name": "ipython",
    "version": 3
   },
   "file_extension": ".py",
   "mimetype": "text/x-python",
   "name": "python",
   "nbconvert_exporter": "python",
   "pygments_lexer": "ipython3",
   "version": "3.11.7"
  }
 },
 "nbformat": 4,
 "nbformat_minor": 5
}
