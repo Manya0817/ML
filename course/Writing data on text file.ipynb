{
 "cells": [
  {
   "cell_type": "code",
   "execution_count": 5,
   "id": "a931ebf0-854a-4f44-a0af-c29f77b2c4f9",
   "metadata": {},
   "outputs": [],
   "source": [
    "fd=open(\"Data.txt\",'w')\n",
    "fd.write(\"Hi everyone, I am Manya Maheshwari\")\n",
    "fd.close()"
   ]
  },
  {
   "cell_type": "markdown",
   "id": "82fcea8c-0350-4713-9727-bb2aaa6dc7e9",
   "metadata": {},
   "source": [
    "# Appending"
   ]
  },
  {
   "cell_type": "code",
   "execution_count": 6,
   "id": "90e885e6-f75e-4836-b367-c5116f71cdf1",
   "metadata": {},
   "outputs": [],
   "source": [
    "fd=open('Data.txt','a')\n",
    "fd.write(\"Manya Maheshwari\")\n",
    "fd.close()"
   ]
  },
  {
   "cell_type": "code",
   "execution_count": null,
   "id": "a0e52122-fd33-46bc-9f78-c2352405473b",
   "metadata": {},
   "outputs": [],
   "source": []
  }
 ],
 "metadata": {
  "kernelspec": {
   "display_name": "Python 3 (ipykernel)",
   "language": "python",
   "name": "python3"
  },
  "language_info": {
   "codemirror_mode": {
    "name": "ipython",
    "version": 3
   },
   "file_extension": ".py",
   "mimetype": "text/x-python",
   "name": "python",
   "nbconvert_exporter": "python",
   "pygments_lexer": "ipython3",
   "version": "3.11.7"
  }
 },
 "nbformat": 4,
 "nbformat_minor": 5
}
