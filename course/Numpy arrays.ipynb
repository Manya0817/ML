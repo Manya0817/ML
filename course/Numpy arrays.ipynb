{
 "cells": [
  {
   "cell_type": "markdown",
   "id": "94e9be85-59f1-4de8-92e9-048443b01fdb",
   "metadata": {},
   "source": [
    "# Array v/s List Comparison"
   ]
  },
  {
   "cell_type": "code",
   "execution_count": 12,
   "id": "3251cb67-bd85-4ca5-854f-962ba711fdf1",
   "metadata": {},
   "outputs": [
    {
     "name": "stdout",
     "output_type": "stream",
     "text": [
      "[1, 3, 2]\n",
      "<class 'list'>\n"
     ]
    }
   ],
   "source": [
    "import numpy as np\n",
    "\n",
    "lst=[1,3,2]\n",
    "print(lst)\n",
    "print(type(lst))"
   ]
  },
  {
   "cell_type": "code",
   "execution_count": 13,
   "id": "6440104f-3349-4d76-b538-076b5bd31d8a",
   "metadata": {},
   "outputs": [
    {
     "name": "stdout",
     "output_type": "stream",
     "text": [
      "[1 2 3]\n",
      "<class 'numpy.ndarray'>\n"
     ]
    }
   ],
   "source": [
    "arr=np.array([1,2,3])\n",
    "print(arr)\n",
    "print(type(arr))"
   ]
  },
  {
   "cell_type": "code",
   "execution_count": 14,
   "id": "8856e65d-3a18-4864-ad31-d07321411fc5",
   "metadata": {},
   "outputs": [
    {
     "name": "stdout",
     "output_type": "stream",
     "text": [
      "[ True False False]\n"
     ]
    }
   ],
   "source": [
    "print(arr==lst)"
   ]
  },
  {
   "cell_type": "code",
   "execution_count": 15,
   "id": "a0631da2-78cb-448c-8172-b754d0396cf0",
   "metadata": {},
   "outputs": [
    {
     "name": "stdout",
     "output_type": "stream",
     "text": [
      "False\n"
     ]
    }
   ],
   "source": [
    "print(arr.tolist()==lst)"
   ]
  },
  {
   "cell_type": "code",
   "execution_count": 16,
   "id": "05b6572a-d60e-422f-9fbe-a0021a15178f",
   "metadata": {},
   "outputs": [
    {
     "name": "stdout",
     "output_type": "stream",
     "text": [
      "True\n"
     ]
    }
   ],
   "source": [
    "print(sorted(arr.tolist())==sorted(lst))"
   ]
  },
  {
   "cell_type": "markdown",
   "id": "8553f875-1db0-406a-a608-1c916d8473ce",
   "metadata": {},
   "source": [
    "# Adding elements in an array v/s list"
   ]
  },
  {
   "cell_type": "code",
   "execution_count": 20,
   "id": "10126b31-d4ed-4712-b3cf-65c15c58516e",
   "metadata": {},
   "outputs": [
    {
     "name": "stdout",
     "output_type": "stream",
     "text": [
      "[1, 3, 2]\n",
      "[1, 3, 2, 4]\n",
      "[1 2 3]\n",
      "[1 2 3 4]\n"
     ]
    }
   ],
   "source": [
    "lst=[1,3,2]\n",
    "arr=np.array([1,2,3])\n",
    "\n",
    "print(lst)\n",
    "lst.append(4)\n",
    "print(lst)\n",
    "\n",
    "print(arr)\n",
    "arr=np.append(arr,4)\n",
    "print(arr)"
   ]
  },
  {
   "cell_type": "markdown",
   "id": "d8cc525d-1bd5-459c-920d-3cc10d5e7393",
   "metadata": {},
   "source": [
    "# Removing the elements in an Array v/s list"
   ]
  },
  {
   "cell_type": "code",
   "execution_count": 23,
   "id": "261fde6e-8bd8-45c0-b6d4-c23ad6d7279c",
   "metadata": {},
   "outputs": [
    {
     "name": "stdout",
     "output_type": "stream",
     "text": [
      "[1, 3, 2]\n",
      "[1, 2]\n",
      "[1 2 3]\n",
      "[1 3]\n"
     ]
    }
   ],
   "source": [
    "lst=[1,3,2]\n",
    "arr=np.array([1,2,3])\n",
    "\n",
    "print(lst)\n",
    "#lst.pop()\n",
    "del lst[-2]\n",
    "print(lst)\n",
    "\n",
    "print(arr)\n",
    "arr=np.delete(arr,-2)\n",
    "print(arr)"
   ]
  },
  {
   "cell_type": "markdown",
   "id": "8d3a90ec-bba2-4636-864d-6f651a39c509",
   "metadata": {},
   "source": [
    "# Updating elements in an array v/s list"
   ]
  },
  {
   "cell_type": "code",
   "execution_count": 26,
   "id": "307b6c0a-cbec-4c86-93de-cc97240f962b",
   "metadata": {},
   "outputs": [
    {
     "name": "stdout",
     "output_type": "stream",
     "text": [
      "[1, 3, 2]\n",
      "[1, 3, 4]\n",
      "********************\n",
      "[1 3 2]\n",
      "[1 2 3]\n"
     ]
    }
   ],
   "source": [
    "lst=[1,3,2]\n",
    "print(lst)\n",
    "lst[-1]=4\n",
    "print(lst)\n",
    "print('*'*20)\n",
    "\n",
    "arr=np.array([1,3,2])\n",
    "print(arr)\n",
    "arr[-2]=2\n",
    "arr[-1]=3\n",
    "print(arr)"
   ]
  },
  {
   "cell_type": "markdown",
   "id": "1328d9c5-9243-42e1-9aa2-001440c33486",
   "metadata": {},
   "source": [
    "# List vs Array comparisons"
   ]
  },
  {
   "cell_type": "code",
   "execution_count": 39,
   "id": "5ce7673b-4674-45b1-a31f-bde1339178bd",
   "metadata": {},
   "outputs": [
    {
     "name": "stdout",
     "output_type": "stream",
     "text": [
      "for the list  4.734694480895996\n",
      "for the array 0.5884983539581299\n",
      "10000000\n",
      "10000000\n"
     ]
    }
   ],
   "source": [
    "import time\n",
    "\n",
    "my_list=list(range(10000000))\n",
    "my_array=np.arange(10000000)\n",
    "\n",
    "#search time for list \n",
    "start_time=time.time()\n",
    "for _ in range(100):\n",
    "    if 5000000 in my_list:\n",
    "        pass\n",
    "end_time=time.time()\n",
    "print(\"for the list \",end_time-start_time)\n",
    "\n",
    "#search time for array\n",
    "start_time=time.time()\n",
    "for _ in range(100):\n",
    "    if 5000000 in my_array:\n",
    "        pass\n",
    "end_time=time.time()\n",
    "print(\"for the array\",end_time-start_time)\n",
    "\n",
    "\n",
    "print(len(my_list))\n",
    "print(len(my_array))"
   ]
  },
  {
   "cell_type": "code",
   "execution_count": 30,
   "id": "7464a519-bbdd-49fb-973e-f871b7d1346f",
   "metadata": {},
   "outputs": [
    {
     "data": {
      "text/plain": [
       "[0, 1, 2, 3, 4, 5, 6, 7, 8, 9]"
      ]
     },
     "execution_count": 30,
     "metadata": {},
     "output_type": "execute_result"
    }
   ],
   "source": [
    "my_list[:10]"
   ]
  },
  {
   "cell_type": "code",
   "execution_count": 31,
   "id": "cead51a6-e509-4f3a-8a82-5f838b13c9db",
   "metadata": {},
   "outputs": [
    {
     "data": {
      "text/plain": [
       "array([0, 1, 2, 3, 4, 5, 6, 7, 8, 9])"
      ]
     },
     "execution_count": 31,
     "metadata": {},
     "output_type": "execute_result"
    }
   ],
   "source": [
    "my_array[:10]"
   ]
  },
  {
   "cell_type": "markdown",
   "id": "c2583f6e-3bb9-4639-a663-f2e56a2eee04",
   "metadata": {},
   "source": [
    "# Converting Data Structures to Numpy Array"
   ]
  },
  {
   "cell_type": "markdown",
   "id": "1e416b29-805c-4a8c-bea4-03c27e79d299",
   "metadata": {},
   "source": [
    "**1.1 Converting a tuple to an array**"
   ]
  },
  {
   "cell_type": "code",
   "execution_count": 40,
   "id": "856a4f7b-4b1a-4f09-83bb-45bcada9626f",
   "metadata": {},
   "outputs": [
    {
     "name": "stdout",
     "output_type": "stream",
     "text": [
      "(1, 2, 3)\n",
      "<class 'tuple'>\n",
      "[1 2 3]\n",
      "<class 'numpy.ndarray'>\n"
     ]
    }
   ],
   "source": [
    "tpl=(1,2,3)\n",
    "print(tpl)\n",
    "print(type(tpl))\n",
    "\n",
    "arr=np.array(tpl)\n",
    "print(arr)\n",
    "print(type(arr))"
   ]
  },
  {
   "cell_type": "markdown",
   "id": "8c3193de-bb06-4907-bf76-33ec57a69fc9",
   "metadata": {},
   "source": [
    "**1.2 Converting a list to an array**"
   ]
  },
  {
   "cell_type": "code",
   "execution_count": 41,
   "id": "ecb9a6b9-973c-455b-9efb-feadec1b039c",
   "metadata": {},
   "outputs": [
    {
     "name": "stdout",
     "output_type": "stream",
     "text": [
      "[1, 2, 3]\n",
      "<class 'list'>\n",
      "[1 2 3]\n",
      "<class 'numpy.ndarray'>\n"
     ]
    }
   ],
   "source": [
    "lst=[1,2,3]\n",
    "print(lst)\n",
    "print(type(lst))\n",
    "\n",
    "arr=np.array(lst)\n",
    "print(arr)\n",
    "print(type(arr))"
   ]
  },
  {
   "cell_type": "markdown",
   "id": "da8be083-6701-4168-983f-2511533be606",
   "metadata": {},
   "source": [
    "**1.3 Converting a dictionary to an array**"
   ]
  },
  {
   "cell_type": "code",
   "execution_count": 45,
   "id": "59abe3ce-2ad6-4542-988f-19e21170627f",
   "metadata": {},
   "outputs": [
    {
     "name": "stdout",
     "output_type": "stream",
     "text": [
      "{1: 'apple', 2: 'mango', 3: 'grapes'}\n",
      "<class 'dict'>\n",
      "{1: 'apple', 2: 'mango', 3: 'grapes'}\n",
      "<class 'numpy.ndarray'>\n",
      "[1 2 3]\n",
      "<class 'numpy.ndarray'>\n",
      "['apple' 'mango' 'grapes']\n",
      "<class 'numpy.ndarray'>\n"
     ]
    }
   ],
   "source": [
    "dict={1:\"apple\",2:\"mango\",3:\"grapes\"}\n",
    "print(dict)\n",
    "print(type(dict))\n",
    "\n",
    "arr=np.array(dict)\n",
    "print(arr)\n",
    "print(type(arr))\n",
    "\n",
    "arr_k=np.array(list(dict.keys()))\n",
    "arr_v=np.array(list(dict.values()))\n",
    "print(arr_k)\n",
    "print(type(arr_k))\n",
    "print(arr_v)\n",
    "print(type(arr_v))"
   ]
  },
  {
   "cell_type": "markdown",
   "id": "42804fda-a6a2-48c2-a432-3407c1d6c270",
   "metadata": {},
   "source": [
    "**1.4 Converting a set to an array**"
   ]
  },
  {
   "cell_type": "code",
   "execution_count": 47,
   "id": "08776ce7-209f-4773-83cf-46a4820ad19b",
   "metadata": {},
   "outputs": [
    {
     "name": "stdout",
     "output_type": "stream",
     "text": [
      "{1, 2, 3}\n",
      "<class 'set'>\n",
      "[1 2 3]\n",
      "<class 'numpy.ndarray'>\n"
     ]
    }
   ],
   "source": [
    "st={1,2,3}\n",
    "print(st)\n",
    "print(type(st))\n",
    "\n",
    "arr=np.array(list(st))\n",
    "print(arr)\n",
    "print(type(arr))"
   ]
  },
  {
   "cell_type": "markdown",
   "id": "b71e3f9f-a602-4603-af20-3009813a6053",
   "metadata": {},
   "source": [
    "**1.5 Converting a string to an array**"
   ]
  },
  {
   "cell_type": "code",
   "execution_count": 48,
   "id": "23ff14ea-9aaa-4a57-84a8-924c6ec7b129",
   "metadata": {},
   "outputs": [
    {
     "name": "stdout",
     "output_type": "stream",
     "text": [
      "['h' 'e' 'l' 'l' 'o' ' ' 'w' 'o' 'r' 'l' 'd']\n",
      "<class 'numpy.ndarray'>\n"
     ]
    }
   ],
   "source": [
    "arr=np.array(list('hello world'))\n",
    "print(arr)\n",
    "print(type(arr))\n"
   ]
  },
  {
   "cell_type": "markdown",
   "id": "3448685b-efb8-4cdd-b0f6-6bcc3fe62e96",
   "metadata": {},
   "source": [
    "# Converting the datatype of numpy array"
   ]
  },
  {
   "cell_type": "markdown",
   "id": "53a3e802-5bde-450b-8db5-ad5be556de26",
   "metadata": {},
   "source": [
    "**2.1 Create an array of integers**"
   ]
  },
  {
   "cell_type": "code",
   "execution_count": 52,
   "id": "b8dbb356-27b9-4123-88c9-125ae08c914c",
   "metadata": {},
   "outputs": [
    {
     "name": "stdout",
     "output_type": "stream",
     "text": [
      "[1 2 3 4 5]\n",
      "[1. 2. 3. 4. 5.]\n",
      "['1' '2' '3' '4' '5']\n",
      "[ True  True  True  True  True]\n"
     ]
    }
   ],
   "source": [
    "arr=np.array([1,2,3,4,5])\n",
    "print(arr)\n",
    "arr_=arr.astype('float')\n",
    "print(arr_)\n",
    "arr__=arr.astype('str')\n",
    "print(arr__)\n",
    "arr___=arr.astype('bool')\n",
    "print(arr___)"
   ]
  },
  {
   "cell_type": "markdown",
   "id": "1c3bd5fb-cafe-4dc2-9e75-6fc3bff613b9",
   "metadata": {},
   "source": [
    "**2.2 Create an array of floats**"
   ]
  },
  {
   "cell_type": "code",
   "execution_count": 55,
   "id": "07d79489-bf96-4925-8609-e71bc7b82b2c",
   "metadata": {},
   "outputs": [
    {
     "name": "stdout",
     "output_type": "stream",
     "text": [
      "[1. 2. 3. 4. 5.]\n",
      "[1 2 3 4 5]\n",
      "['1.0' '2.0' '3.0' '4.0' '5.0']\n",
      "[ True  True  True  True  True]\n"
     ]
    }
   ],
   "source": [
    "arr=np.array([1.,2.,3.,4.,5.])\n",
    "print(arr)\n",
    "arr_=arr.astype('int')\n",
    "print(arr_)\n",
    "arr__=arr.astype('str')\n",
    "print(arr__)\n",
    "arr___=arr.astype('bool')\n",
    "print(arr___)"
   ]
  },
  {
   "cell_type": "markdown",
   "id": "7ef647db-dcf5-482a-84c0-2cfcd76d3c28",
   "metadata": {},
   "source": [
    "**2.3 Create an array of strings**"
   ]
  },
  {
   "cell_type": "code",
   "execution_count": 59,
   "id": "4ad81e56-acc4-4352-b0bd-756354495fed",
   "metadata": {},
   "outputs": [
    {
     "name": "stdout",
     "output_type": "stream",
     "text": [
      "['1' '2' '3' '4' '5']\n",
      "[1 2 3 4 5]\n",
      "[1. 2. 3. 4. 5.]\n",
      "[ True  True  True  True  True]\n"
     ]
    }
   ],
   "source": [
    "arr=np.array(['1','2','3','4','5'])\n",
    "print(arr)\n",
    "arr_=arr.astype('int')\n",
    "print(arr_)\n",
    "arr__=arr.astype('float')\n",
    "print(arr__)\n",
    "arr___=arr.astype('bool')\n",
    "print(arr___)"
   ]
  },
  {
   "cell_type": "markdown",
   "id": "4329d2b6-ebf8-4994-8c0b-f661a3d278e9",
   "metadata": {},
   "source": [
    "**2.4 Create an array of boolean**"
   ]
  },
  {
   "cell_type": "code",
   "execution_count": 60,
   "id": "0d51f567-21d8-4b9e-bcd7-bb9a568584bb",
   "metadata": {},
   "outputs": [
    {
     "name": "stdout",
     "output_type": "stream",
     "text": [
      "[ True False False False  True]\n",
      "[1 0 0 0 1]\n",
      "[1. 0. 0. 0. 1.]\n",
      "['True' 'False' 'False' 'False' 'True']\n"
     ]
    }
   ],
   "source": [
    "arr=np.array([True,False,False,False,True])\n",
    "print(arr)\n",
    "arr_=arr.astype('int')\n",
    "print(arr_)\n",
    "arr__=arr.astype('float')\n",
    "print(arr__)\n",
    "arr___=arr.astype('str')\n",
    "print(arr___)"
   ]
  },
  {
   "cell_type": "code",
   "execution_count": 62,
   "id": "ea96a13d-9d9f-4349-a7f8-f5d76f539fb8",
   "metadata": {},
   "outputs": [
    {
     "name": "stdout",
     "output_type": "stream",
     "text": [
      "['1' '0' '0' '0' '1']\n"
     ]
    }
   ],
   "source": [
    "arr=np.array([True,False,False,False,True])\n",
    "arr_=arr.astype('int')\n",
    "arr_=arr_.astype('str')\n",
    "print(arr_)"
   ]
  },
  {
   "cell_type": "markdown",
   "id": "3a9920e9-1c9e-4e9e-851e-e763ee2edb95",
   "metadata": {},
   "source": [
    "# Manipulating Multidimensional arrays"
   ]
  },
  {
   "cell_type": "markdown",
   "id": "3e64360b-cd60-483c-9583-73906c6a188a",
   "metadata": {},
   "source": [
    "# 1. Creating Multi-dimensional Arrays"
   ]
  },
  {
   "cell_type": "markdown",
   "id": "d5f65a2b-757f-474f-9c76-3ca7471e3ad6",
   "metadata": {},
   "source": [
    "**1.1 Create a 2D array from a list of lists**"
   ]
  },
  {
   "cell_type": "code",
   "execution_count": 65,
   "id": "c908f219-85b6-4526-8f9a-f64a1bbaed37",
   "metadata": {},
   "outputs": [
    {
     "name": "stdout",
     "output_type": "stream",
     "text": [
      "[[1 2 3]\n",
      " [4 5 6]]\n",
      "********************\n"
     ]
    }
   ],
   "source": [
    "arr=np.array([[1,2,3],[4,5,6]])\n",
    "print(arr)\n",
    "print('*'*20)\n"
   ]
  },
  {
   "cell_type": "markdown",
   "id": "f9844801-0656-4893-8873-89c5a93a150f",
   "metadata": {},
   "source": [
    "**1.2 Create a 3D array from a list of lists**"
   ]
  },
  {
   "cell_type": "code",
   "execution_count": 67,
   "id": "85984d44-5985-49c6-a64b-53ae19251961",
   "metadata": {},
   "outputs": [
    {
     "name": "stdout",
     "output_type": "stream",
     "text": [
      "[[[ 1  2  3]\n",
      "  [ 4  5  6]\n",
      "  [ 7  8  9]]\n",
      "\n",
      " [[10 11 12]\n",
      "  [13 14 15]\n",
      "  [16 17 18]]\n",
      "\n",
      " [[19 20 21]\n",
      "  [22 23 24]\n",
      "  [25 26 27]]]\n"
     ]
    }
   ],
   "source": [
    "arr=np.array([[[1,2,3],[4,5,6],[7,8,9]],[[10,11,12],[13,14,15],[16,17,18]],[[19,20,21],[22,23,24],[25,26,27]]]\n",
    ")\n",
    "print(arr)"
   ]
  },
  {
   "cell_type": "markdown",
   "id": "044ee336-3f56-4260-92b0-038d0dba98ee",
   "metadata": {},
   "source": [
    "**1.3 Creating a 2d array from a list of tuples**"
   ]
  },
  {
   "cell_type": "code",
   "execution_count": 69,
   "id": "9e1e4d99-dc68-4d73-a992-b5c301f868e3",
   "metadata": {},
   "outputs": [
    {
     "name": "stdout",
     "output_type": "stream",
     "text": [
      "[[1 2 3]\n",
      " [4 5 6]]\n",
      "********************\n"
     ]
    }
   ],
   "source": [
    "arr=np.array([(1,2,3),(4,5,6)])\n",
    "print(arr)\n",
    "print('*'*20)"
   ]
  },
  {
   "cell_type": "markdown",
   "id": "681906f2-f29f-4047-9fb4-88b7a420bdee",
   "metadata": {},
   "source": [
    "**1.4 Creating a 2D array from a list of arrays**"
   ]
  },
  {
   "cell_type": "code",
   "execution_count": 71,
   "id": "d928b14b-8a29-4895-a289-96cb25631ae6",
   "metadata": {},
   "outputs": [
    {
     "name": "stdout",
     "output_type": "stream",
     "text": [
      "[[1 2 3]\n",
      " [4 5 6]]\n"
     ]
    }
   ],
   "source": [
    "arr=np.array([np.array([1,2,3]),np.array([4,5,6])])\n",
    "print(arr)"
   ]
  },
  {
   "cell_type": "markdown",
   "id": "48ca0eaf-06a7-482d-ba30-67640bc585be",
   "metadata": {},
   "source": [
    "**Create a 2D array from a list of strings**"
   ]
  },
  {
   "cell_type": "code",
   "execution_count": 72,
   "id": "4cd8545a-9776-4322-8834-c60c9fb0cd0c",
   "metadata": {},
   "outputs": [
    {
     "name": "stdout",
     "output_type": "stream",
     "text": [
      "[['1' '2' '3']\n",
      " ['4' '5' '6']]\n",
      "********************\n"
     ]
    }
   ],
   "source": [
    "arr=np.array([['1','2','3'],['4','5','6']])\n",
    "print(arr)\n",
    "print('*'*20)"
   ]
  },
  {
   "cell_type": "markdown",
   "id": "9a66603a-8e5c-4a79-9368-3e23dc0c8c54",
   "metadata": {},
   "source": [
    "**1.6 Create a 2D array from a list of dictionaries**"
   ]
  },
  {
   "cell_type": "code",
   "execution_count": 73,
   "id": "85396996-b6aa-4e55-9672-323107c0b525",
   "metadata": {},
   "outputs": [
    {
     "name": "stdout",
     "output_type": "stream",
     "text": [
      "[{'a': 1, 'b': 2, 'c': 3} {'d': 4, 'e': 5, 'f': 6}]\n"
     ]
    }
   ],
   "source": [
    "arr=np.array([{'a':1,'b':2,'c':3},{'d':4,'e':5,'f':6}])\n",
    "print(arr)"
   ]
  },
  {
   "cell_type": "markdown",
   "id": "0c36cbd9-136a-4036-9c39-0e5af8c9c2f7",
   "metadata": {},
   "source": [
    "# 2. Finding details of an arrays"
   ]
  },
  {
   "cell_type": "markdown",
   "id": "ed454b42-adb4-4776-9b2b-882ab2b9cc67",
   "metadata": {},
   "source": [
    "**2.1 Finding the shape of the array**"
   ]
  },
  {
   "cell_type": "code",
   "execution_count": 74,
   "id": "20f736e2-c564-4ed9-ada8-e1a3d8e82bbb",
   "metadata": {},
   "outputs": [
    {
     "name": "stdout",
     "output_type": "stream",
     "text": [
      "(2, 3)\n"
     ]
    }
   ],
   "source": [
    "arr=np.array([[1,2,3],[4,5,6]])\n",
    "print(arr.shape)"
   ]
  },
  {
   "cell_type": "markdown",
   "id": "ac568c0b-f72a-4bba-87f7-0c7c9e98c40b",
   "metadata": {},
   "source": [
    "**2.2 Print the number of dimensions of the array**"
   ]
  },
  {
   "cell_type": "code",
   "execution_count": 75,
   "id": "1a3f9bd4-aee7-4da4-92af-52d48bbd4097",
   "metadata": {},
   "outputs": [
    {
     "name": "stdout",
     "output_type": "stream",
     "text": [
      "2\n"
     ]
    }
   ],
   "source": [
    "arr=np.array([[1,2,3],[4,5,6]])\n",
    "print(arr.ndim)"
   ]
  },
  {
   "cell_type": "markdown",
   "id": "e99e8d30-9be0-4c63-9c66-ecc3e29f3b54",
   "metadata": {},
   "source": [
    "**2.3 Print the data type of the array**"
   ]
  },
  {
   "cell_type": "code",
   "execution_count": 76,
   "id": "1fab0eab-6b18-4b4a-a3b1-7cc4424b1264",
   "metadata": {},
   "outputs": [
    {
     "name": "stdout",
     "output_type": "stream",
     "text": [
      "int32\n"
     ]
    }
   ],
   "source": [
    "arr=np.array([[1,2,3],[4,5,6]])\n",
    "print(arr.dtype)"
   ]
  },
  {
   "cell_type": "markdown",
   "id": "1a2b7aae-d8ab-4e6e-9df9-4ac16e0456cb",
   "metadata": {},
   "source": [
    "**2.4 Print the size of the array**"
   ]
  },
  {
   "cell_type": "code",
   "execution_count": 77,
   "id": "20d8d522-056c-4fe7-aa44-1c592f8a0567",
   "metadata": {},
   "outputs": [
    {
     "name": "stdout",
     "output_type": "stream",
     "text": [
      "6\n"
     ]
    }
   ],
   "source": [
    "arr=np.array([[1,2,3],[4,5,6]])\n",
    "print(arr.size)"
   ]
  },
  {
   "cell_type": "markdown",
   "id": "eacc2d14-a720-4888-92a7-abac5947ac14",
   "metadata": {},
   "source": [
    "**2.5 Print the item size| bytes taken by each element in an array**"
   ]
  },
  {
   "cell_type": "code",
   "execution_count": 78,
   "id": "e07efdea-0845-48e7-a0bf-caca360051f0",
   "metadata": {},
   "outputs": [
    {
     "name": "stdout",
     "output_type": "stream",
     "text": [
      "4\n"
     ]
    }
   ],
   "source": [
    "arr=np.array([[1,2,3],[4,5,6]])\n",
    "print(arr.itemsize)"
   ]
  },
  {
   "cell_type": "markdown",
   "id": "5cfbcf80-e3d9-44d1-a446-98392f0d01f4",
   "metadata": {},
   "source": [
    "**2.6 Print the type of the array**"
   ]
  },
  {
   "cell_type": "code",
   "execution_count": 79,
   "id": "a73b6d5f-9e61-4975-9a40-4baa81589379",
   "metadata": {},
   "outputs": [
    {
     "name": "stdout",
     "output_type": "stream",
     "text": [
      "<class 'numpy.ndarray'>\n"
     ]
    }
   ],
   "source": [
    "print(type(arr))"
   ]
  },
  {
   "cell_type": "markdown",
   "id": "66a9e06f-7c39-4d46-80fe-538b6d626761",
   "metadata": {},
   "source": [
    "# Working with a copy fnction"
   ]
  },
  {
   "cell_type": "markdown",
   "id": "6d224070-2b26-4fb3-bbd6-bb6c2162b591",
   "metadata": {},
   "source": [
    "**1. Copy functions with lists**"
   ]
  },
  {
   "cell_type": "code",
   "execution_count": 86,
   "id": "338cbeee-3234-40ce-9c8e-07a190bd7963",
   "metadata": {},
   "outputs": [
    {
     "name": "stdout",
     "output_type": "stream",
     "text": [
      "[1, 2, 3, 4, 5]\n",
      "[1, 2, 3, 4, 5]\n",
      "--------------------\n",
      "[5, 2, 3, 4, 5]\n",
      "[5, 2, 3, 4, 5]\n",
      "********************\n",
      "[1, 2, 3, 4, 5]\n",
      "[1, 2, 3, 4, 5]\n",
      "--------------------\n",
      "[5, 2, 3, 4, 5]\n",
      "[1, 2, 3, 4, 5]\n"
     ]
    }
   ],
   "source": [
    "lst=[1,2,3,4,5]\n",
    "print(lst)\n",
    "lst1=lst\n",
    "print(lst1)\n",
    "print('-'*20)\n",
    "lst[0]=5\n",
    "print(lst)\n",
    "print(lst1)\n",
    "print('*'*20)\n",
    "lst=[1,2,3,4,5]\n",
    "print(lst)\n",
    "lst1=lst.copy()\n",
    "print(lst1)\n",
    "print('-'*20)\n",
    "lst[0]=5\n",
    "print(lst)\n",
    "print(lst1)"
   ]
  },
  {
   "cell_type": "markdown",
   "id": "38fc5b62-47a5-4aae-93a6-f9d4d2767df9",
   "metadata": {},
   "source": [
    "**Copy functions with arrays**"
   ]
  },
  {
   "cell_type": "code",
   "execution_count": 88,
   "id": "c9469b0f-24cf-45cf-a065-ab3710e5282e",
   "metadata": {},
   "outputs": [
    {
     "name": "stdout",
     "output_type": "stream",
     "text": [
      "[1 2 3 4 5]\n",
      "[1 2 3 4 5]\n",
      "----------\n",
      "[5 2 3 4 5]\n",
      "[1 2 3 4 5]\n",
      "----------\n",
      "[1 2 3 4 5]\n",
      "[5 2 3 4 5]\n"
     ]
    }
   ],
   "source": [
    "arr=np.array([1,2,3,4,5])\n",
    "arr_=arr.copy()\n",
    "\n",
    "print(arr)\n",
    "print(arr_)\n",
    "print('-'*10)\n",
    "\n",
    "arr[0]=5\n",
    "print(arr)\n",
    "print(arr_)\n",
    "arr[0]=1\n",
    "print('-'*10)\n",
    "\n",
    "arr_[0]=5\n",
    "print(arr)\n",
    "print(arr_)"
   ]
  },
  {
   "cell_type": "markdown",
   "id": "8e03d1b5-cf34-4cfa-84c5-45535baa438f",
   "metadata": {},
   "source": [
    "# Exploring Indexing and Slicing in NumPy"
   ]
  },
  {
   "cell_type": "markdown",
   "id": "3e28e040-0a54-4c82-be1f-7e1a3ed055b6",
   "metadata": {},
   "source": [
    "**1.Indexing and slicing with lists**"
   ]
  },
  {
   "cell_type": "code",
   "execution_count": 102,
   "id": "8add1181-ea67-4990-95ac-00204d14396b",
   "metadata": {},
   "outputs": [
    {
     "name": "stdout",
     "output_type": "stream",
     "text": [
      "1\n",
      "5\n"
     ]
    }
   ],
   "source": [
    "arr=np.array([1,2,3,4,5,6,7,8,9])\n",
    "print(arr[0])\n",
    "print(arr[4])"
   ]
  },
  {
   "cell_type": "code",
   "execution_count": 103,
   "id": "fe7cbe15-167e-47f5-acc0-a538897d400d",
   "metadata": {},
   "outputs": [
    {
     "name": "stdout",
     "output_type": "stream",
     "text": [
      "9\n"
     ]
    }
   ],
   "source": [
    "print(arr[-1])"
   ]
  },
  {
   "cell_type": "code",
   "execution_count": 104,
   "id": "a70ef9f8-1c50-4537-88b3-e60fdd39f288",
   "metadata": {},
   "outputs": [
    {
     "name": "stdout",
     "output_type": "stream",
     "text": [
      "[1 2 3]\n"
     ]
    }
   ],
   "source": [
    "print(arr[0:3])"
   ]
  },
  {
   "cell_type": "code",
   "execution_count": 105,
   "id": "ba7b0d07-15e9-48d9-bafe-7be415a74709",
   "metadata": {},
   "outputs": [
    {
     "name": "stdout",
     "output_type": "stream",
     "text": [
      "[1 2 3 4 5 6 7 8 9]\n"
     ]
    }
   ],
   "source": [
    "print(arr[0:100])"
   ]
  },
  {
   "cell_type": "code",
   "execution_count": 106,
   "id": "2e58a895-3a78-4f90-ab41-0ddd757304d1",
   "metadata": {},
   "outputs": [
    {
     "name": "stdout",
     "output_type": "stream",
     "text": [
      "[1 2 3 4 5 6 7 8 9]\n"
     ]
    }
   ],
   "source": [
    "print(arr[0:])"
   ]
  },
  {
   "cell_type": "code",
   "execution_count": 107,
   "id": "80f77847-58fb-48d9-9fab-d5582466b148",
   "metadata": {},
   "outputs": [
    {
     "name": "stdout",
     "output_type": "stream",
     "text": [
      "[2 3 4 5 6 7 8]\n"
     ]
    }
   ],
   "source": [
    "print(arr[1:-1])"
   ]
  },
  {
   "cell_type": "code",
   "execution_count": 108,
   "id": "2a017744-b93f-4600-ae86-8f917bb902b2",
   "metadata": {},
   "outputs": [
    {
     "name": "stdout",
     "output_type": "stream",
     "text": [
      "[1 3 5 7 9]\n"
     ]
    }
   ],
   "source": [
    "print(arr[::2])"
   ]
  },
  {
   "cell_type": "code",
   "execution_count": 109,
   "id": "e5f0639f-e297-4a07-b7c7-a274eb840dc4",
   "metadata": {},
   "outputs": [
    {
     "name": "stdout",
     "output_type": "stream",
     "text": [
      "[9 8 7 6 5 4 3 2 1]\n"
     ]
    }
   ],
   "source": [
    "print(arr[::-1])"
   ]
  },
  {
   "cell_type": "code",
   "execution_count": 116,
   "id": "51b9e58d-2705-4a3d-8953-da1cfdc3f027",
   "metadata": {},
   "outputs": [
    {
     "data": {
      "text/plain": [
       "array([100, 200,   4,   5,   6,   7,   8,   9])"
      ]
     },
     "execution_count": 116,
     "metadata": {},
     "output_type": "execute_result"
    }
   ],
   "source": [
    "# del arr[0]\n",
    "arr=np.delete(arr,0)\n",
    "arr"
   ]
  },
  {
   "cell_type": "code",
   "execution_count": 117,
   "id": "814cf5aa-882b-42f2-8a43-b2690df9131b",
   "metadata": {},
   "outputs": [
    {
     "name": "stdout",
     "output_type": "stream",
     "text": [
      "[100 200   4   5   6   7   8   9]\n"
     ]
    }
   ],
   "source": [
    "print(arr)"
   ]
  },
  {
   "cell_type": "code",
   "execution_count": 118,
   "id": "8888850a-cb44-45e5-938d-07f239c72cbc",
   "metadata": {},
   "outputs": [
    {
     "name": "stdout",
     "output_type": "stream",
     "text": [
      "[100 100 200   5   6   7   8   9]\n"
     ]
    }
   ],
   "source": [
    "arr[1:3]=[100,200]\n",
    "print(arr)"
   ]
  },
  {
   "cell_type": "code",
   "execution_count": 119,
   "id": "b04a9677-ca26-4f75-bac4-df264c8ec1c0",
   "metadata": {},
   "outputs": [
    {
     "data": {
      "text/plain": [
       "array([  5, 100, 100, 200,   5,   6,   7,   8,   9])"
      ]
     },
     "execution_count": 119,
     "metadata": {},
     "output_type": "execute_result"
    }
   ],
   "source": [
    "arr=np.insert(arr,0,5)\n",
    "arr"
   ]
  },
  {
   "cell_type": "markdown",
   "id": "0b13a68d-6d95-4e04-a371-2c573709d020",
   "metadata": {},
   "source": [
    "# Creating fixed size arrays"
   ]
  },
  {
   "cell_type": "markdown",
   "id": "52a87554-a116-45de-93e1-c81543a6aaf0",
   "metadata": {},
   "source": [
    "**1. Creating zeros**"
   ]
  },
  {
   "cell_type": "code",
   "execution_count": 121,
   "id": "fa9f59d1-2607-47f2-89fc-4ccfa88a3d04",
   "metadata": {},
   "outputs": [
    {
     "data": {
      "text/plain": [
       "array([0., 0., 0., 0., 0., 0., 0., 0., 0., 0.])"
      ]
     },
     "execution_count": 121,
     "metadata": {},
     "output_type": "execute_result"
    }
   ],
   "source": [
    "np.zeros(10)"
   ]
  },
  {
   "cell_type": "code",
   "execution_count": 123,
   "id": "c7657878-57a3-4db2-a05a-73f5e7c63b54",
   "metadata": {},
   "outputs": [
    {
     "data": {
      "text/plain": [
       "array([[0., 0., 0., 0., 0., 0., 0., 0., 0., 0.],\n",
       "       [0., 0., 0., 0., 0., 0., 0., 0., 0., 0.],\n",
       "       [0., 0., 0., 0., 0., 0., 0., 0., 0., 0.],\n",
       "       [0., 0., 0., 0., 0., 0., 0., 0., 0., 0.],\n",
       "       [0., 0., 0., 0., 0., 0., 0., 0., 0., 0.],\n",
       "       [0., 0., 0., 0., 0., 0., 0., 0., 0., 0.],\n",
       "       [0., 0., 0., 0., 0., 0., 0., 0., 0., 0.],\n",
       "       [0., 0., 0., 0., 0., 0., 0., 0., 0., 0.],\n",
       "       [0., 0., 0., 0., 0., 0., 0., 0., 0., 0.],\n",
       "       [0., 0., 0., 0., 0., 0., 0., 0., 0., 0.]])"
      ]
     },
     "execution_count": 123,
     "metadata": {},
     "output_type": "execute_result"
    }
   ],
   "source": [
    "np.zeros((10,10))"
   ]
  },
  {
   "cell_type": "code",
   "execution_count": 126,
   "id": "92a65112-0daa-4883-9fd7-d84254279f80",
   "metadata": {},
   "outputs": [
    {
     "data": {
      "text/plain": [
       "array([[[0, 0, 0, 0, 0],\n",
       "        [0, 0, 0, 0, 0],\n",
       "        [0, 0, 0, 0, 0]],\n",
       "\n",
       "       [[0, 0, 0, 0, 0],\n",
       "        [0, 0, 0, 0, 0],\n",
       "        [0, 0, 0, 0, 0]]])"
      ]
     },
     "execution_count": 126,
     "metadata": {},
     "output_type": "execute_result"
    }
   ],
   "source": [
    "np.zeros((2,3,5),dtype=int)"
   ]
  },
  {
   "cell_type": "code",
   "execution_count": 127,
   "id": "1b0b3fd8-a1ce-44a9-8edc-772e4b8eabb6",
   "metadata": {},
   "outputs": [
    {
     "data": {
      "text/plain": [
       "array([[['', '', '', '', ''],\n",
       "        ['', '', '', '', ''],\n",
       "        ['', '', '', '', '']],\n",
       "\n",
       "       [['', '', '', '', ''],\n",
       "        ['', '', '', '', ''],\n",
       "        ['', '', '', '', '']]], dtype='<U1')"
      ]
     },
     "execution_count": 127,
     "metadata": {},
     "output_type": "execute_result"
    }
   ],
   "source": [
    "np.zeros((2,3,5),dtype=str)"
   ]
  },
  {
   "cell_type": "markdown",
   "id": "253ca0ff-ef7f-4a3b-8bae-d0c46008d56c",
   "metadata": {},
   "source": [
    "**2.Ones**"
   ]
  },
  {
   "cell_type": "code",
   "execution_count": 130,
   "id": "01919d93-3de1-4d60-a3dd-bbca81eca9d9",
   "metadata": {},
   "outputs": [
    {
     "data": {
      "text/plain": [
       "array([[1., 1., 1.],\n",
       "       [1., 1., 1.],\n",
       "       [1., 1., 1.],\n",
       "       [1., 1., 1.],\n",
       "       [1., 1., 1.]])"
      ]
     },
     "execution_count": 130,
     "metadata": {},
     "output_type": "execute_result"
    }
   ],
   "source": [
    "np.ones((5,3))"
   ]
  },
  {
   "cell_type": "markdown",
   "id": "daf73f62-6b78-4ed9-aac2-d6ad27c8934f",
   "metadata": {},
   "source": [
    "**3. Eye**"
   ]
  },
  {
   "cell_type": "code",
   "execution_count": 131,
   "id": "93f54bee-d23e-4235-a3f5-6aa7907fddda",
   "metadata": {},
   "outputs": [
    {
     "data": {
      "text/plain": [
       "array([[1., 0., 0., 0., 0.],\n",
       "       [0., 1., 0., 0., 0.],\n",
       "       [0., 0., 1., 0., 0.],\n",
       "       [0., 0., 0., 1., 0.],\n",
       "       [0., 0., 0., 0., 1.]])"
      ]
     },
     "execution_count": 131,
     "metadata": {},
     "output_type": "execute_result"
    }
   ],
   "source": [
    "np.eye(5)"
   ]
  },
  {
   "cell_type": "code",
   "execution_count": 135,
   "id": "ca5b6db7-7e24-47f1-b182-06f4b54f412a",
   "metadata": {},
   "outputs": [
    {
     "data": {
      "text/plain": [
       "array([[1, 0, 0, 0, 0],\n",
       "       [0, 1, 0, 0, 0],\n",
       "       [0, 0, 1, 0, 0],\n",
       "       [0, 0, 0, 1, 0],\n",
       "       [0, 0, 0, 0, 1]])"
      ]
     },
     "execution_count": 135,
     "metadata": {},
     "output_type": "execute_result"
    }
   ],
   "source": [
    "np.eye(5,dtype=int)"
   ]
  },
  {
   "cell_type": "markdown",
   "id": "96868c2e-0936-4a9d-92c7-c1730c357606",
   "metadata": {},
   "source": [
    "**4. Generating the random numbers**"
   ]
  },
  {
   "cell_type": "code",
   "execution_count": 136,
   "id": "91b23932-3348-4af1-ac5d-3630c73de781",
   "metadata": {},
   "outputs": [
    {
     "data": {
      "text/plain": [
       "0.8024531886818398"
      ]
     },
     "execution_count": 136,
     "metadata": {},
     "output_type": "execute_result"
    }
   ],
   "source": [
    "np.random.rand()"
   ]
  },
  {
   "cell_type": "code",
   "execution_count": 137,
   "id": "4d1ac7b4-feba-4dee-9021-bfeeab91051c",
   "metadata": {},
   "outputs": [
    {
     "name": "stdout",
     "output_type": "stream",
     "text": [
      "[0.72736811 0.30803408 0.40527385 0.31308816 0.84377237 0.32266657\n",
      " 0.19357951 0.82733019 0.39440088 0.42221078]\n"
     ]
    }
   ],
   "source": [
    "print(np.random.rand(10))"
   ]
  },
  {
   "cell_type": "code",
   "execution_count": 138,
   "id": "aff6687b-4a47-42d5-a69a-7d10dd92cbef",
   "metadata": {},
   "outputs": [
    {
     "name": "stdout",
     "output_type": "stream",
     "text": [
      "[[0.11304863 0.32925042 0.86393367]\n",
      " [0.09797925 0.29710202 0.69873915]\n",
      " [0.07262424 0.56716224 0.35288138]]\n"
     ]
    }
   ],
   "source": [
    "print(np.random.rand(3,3))"
   ]
  },
  {
   "cell_type": "code",
   "execution_count": 139,
   "id": "3c001bfd-5c90-42dd-b31f-092a68889e23",
   "metadata": {},
   "outputs": [
    {
     "data": {
      "text/plain": [
       "9"
      ]
     },
     "execution_count": 139,
     "metadata": {},
     "output_type": "execute_result"
    }
   ],
   "source": [
    "np.random.randint(10)"
   ]
  },
  {
   "cell_type": "code",
   "execution_count": 140,
   "id": "68c6b23d-e6ef-4415-8bc6-cc280aea6a5e",
   "metadata": {},
   "outputs": [
    {
     "data": {
      "text/plain": [
       "array([[6, 1, 1],\n",
       "       [5, 5, 3],\n",
       "       [3, 6, 3]])"
      ]
     },
     "execution_count": 140,
     "metadata": {},
     "output_type": "execute_result"
    }
   ],
   "source": [
    "np.random.randint(10,size=(3,3))"
   ]
  },
  {
   "cell_type": "code",
   "execution_count": 143,
   "id": "48a7b565-9da3-406a-bbc5-1ccd231bd679",
   "metadata": {},
   "outputs": [
    {
     "data": {
      "text/plain": [
       "array([[2, 6, 1, 4, 5, 4],\n",
       "       [5, 1, 3, 4, 3, 1],\n",
       "       [4, 1, 3, 6, 5, 4],\n",
       "       [5, 1, 4, 4, 3, 2],\n",
       "       [2, 1, 5, 2, 6, 2],\n",
       "       [2, 4, 1, 6, 4, 6]])"
      ]
     },
     "execution_count": 143,
     "metadata": {},
     "output_type": "execute_result"
    }
   ],
   "source": [
    "np.random.randint(low=1,high=7,size=(6,6))"
   ]
  },
  {
   "cell_type": "code",
   "execution_count": 144,
   "id": "29539d36-26c9-4f73-94a2-b0f5040be588",
   "metadata": {},
   "outputs": [
    {
     "data": {
      "text/plain": [
       "-0.6768483633114443"
      ]
     },
     "execution_count": 144,
     "metadata": {},
     "output_type": "execute_result"
    }
   ],
   "source": [
    "np.random.randn()"
   ]
  },
  {
   "cell_type": "markdown",
   "id": "fe23e1f0-0599-4e56-9748-11ed771e1493",
   "metadata": {},
   "source": [
    "**Uniform distribution**"
   ]
  },
  {
   "cell_type": "code",
   "execution_count": 148,
   "id": "65b39e3f-9246-4ded-af31-ecc9736e10f0",
   "metadata": {},
   "outputs": [],
   "source": [
    "arr=(np.random.randint(low=1,high=7,size=(100)))"
   ]
  },
  {
   "cell_type": "code",
   "execution_count": 149,
   "id": "7473bed3-d59d-4855-85b8-269167e76d7d",
   "metadata": {},
   "outputs": [
    {
     "name": "stdout",
     "output_type": "stream",
     "text": [
      "1 15\n",
      "2 17\n",
      "3 15\n",
      "4 13\n",
      "5 14\n",
      "6 26\n"
     ]
    }
   ],
   "source": [
    "for i in range(1,7):\n",
    "    print(i,arr.tolist().count(i))"
   ]
  },
  {
   "cell_type": "markdown",
   "id": "11d6b26d-a9f2-4c49-9b5d-484589e9bade",
   "metadata": {},
   "source": [
    "**Concept of random seed**"
   ]
  },
  {
   "cell_type": "code",
   "execution_count": 150,
   "id": "15f51629-747d-4987-a277-ea72f4521d7d",
   "metadata": {},
   "outputs": [],
   "source": [
    "np.random.seed(42)"
   ]
  },
  {
   "cell_type": "code",
   "execution_count": 151,
   "id": "83a0e018-6a0b-466c-8dec-af0df6cb1e8d",
   "metadata": {},
   "outputs": [
    {
     "name": "stdout",
     "output_type": "stream",
     "text": [
      "510 490\n",
      "474 526\n",
      "499 501\n",
      "524 476\n",
      "489 511\n",
      "486 514\n",
      "491 509\n",
      "506 494\n",
      "503 497\n",
      "505 495\n"
     ]
    }
   ],
   "source": [
    "for i in range(10):\n",
    "    arr=np.random.randint(2,size=1000)\n",
    "    print(len(arr[arr==1]),len(arr[arr==0]))"
   ]
  },
  {
   "cell_type": "code",
   "execution_count": null,
   "id": "b643402e-e94f-4874-b887-90f5b6c0737e",
   "metadata": {},
   "outputs": [],
   "source": []
  }
 ],
 "metadata": {
  "kernelspec": {
   "display_name": "Python 3 (ipykernel)",
   "language": "python",
   "name": "python3"
  },
  "language_info": {
   "codemirror_mode": {
    "name": "ipython",
    "version": 3
   },
   "file_extension": ".py",
   "mimetype": "text/x-python",
   "name": "python",
   "nbconvert_exporter": "python",
   "pygments_lexer": "ipython3",
   "version": "3.11.7"
  }
 },
 "nbformat": 4,
 "nbformat_minor": 5
}
