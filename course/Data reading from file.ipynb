{
 "cells": [
  {
   "cell_type": "code",
   "execution_count": 12,
   "id": "fe5411d9-3070-457e-9af7-a3ef450ab4f7",
   "metadata": {},
   "outputs": [
    {
     "name": "stdout",
     "output_type": "stream",
     "text": [
      "Hello Manya\n",
      "\n",
      "I am 20 years old.\n",
      "\n",
      "I am studying data science course from gfg.\n"
     ]
    }
   ],
   "source": [
    "fd=open('data.txt','r')\n",
    "txt=fd.read()\n",
    "print(txt)\n",
    "\n",
    "fd.close()"
   ]
  },
  {
   "cell_type": "code",
   "execution_count": 13,
   "id": "2995c014-a4d4-48a4-bb8b-c2ce12955f17",
   "metadata": {},
   "outputs": [
    {
     "data": {
      "text/plain": [
       "'Hello Manya\\n\\nI am 20 years old.\\n\\nI am studying data science course from gfg.'"
      ]
     },
     "execution_count": 13,
     "metadata": {},
     "output_type": "execute_result"
    }
   ],
   "source": [
    "txt"
   ]
  },
  {
   "cell_type": "code",
   "execution_count": 14,
   "id": "bf0586e3-9c73-4154-98ad-ba0c4589a9d7",
   "metadata": {},
   "outputs": [],
   "source": [
    "# txt=txt.replace(\"\\n\\n\",' ')"
   ]
  },
  {
   "cell_type": "code",
   "execution_count": 15,
   "id": "6ca33561-7408-4c96-a0fb-753732e2674f",
   "metadata": {},
   "outputs": [
    {
     "name": "stdout",
     "output_type": "stream",
     "text": [
      "Hello Manya\n",
      "\n",
      "I am 20 years old.\n",
      "\n",
      "I am studying data science course from gfg.\n"
     ]
    }
   ],
   "source": [
    "print(txt)"
   ]
  },
  {
   "cell_type": "code",
   "execution_count": 17,
   "id": "d9b62f33-4fd6-4b00-9e0d-eb4da9b5fd89",
   "metadata": {},
   "outputs": [],
   "source": [
    "par=txt.split(\"\\n\\n\")"
   ]
  },
  {
   "cell_type": "code",
   "execution_count": 18,
   "id": "1d92c2ae-c4b1-4fa5-adff-d6c6b824acb1",
   "metadata": {},
   "outputs": [
    {
     "name": "stdout",
     "output_type": "stream",
     "text": [
      "Hello Manya\n",
      "I am 20 years old.\n",
      "I am studying data science course from gfg.\n"
     ]
    }
   ],
   "source": [
    "for i in par:\n",
    "    print(i)"
   ]
  },
  {
   "cell_type": "markdown",
   "id": "4de1de3c-6920-46e7-bdcb-85a8530ae42a",
   "metadata": {},
   "source": [
    "# Lines"
   ]
  },
  {
   "cell_type": "code",
   "execution_count": 21,
   "id": "c93bd40e-0441-4e4f-b6a6-f682d351ceea",
   "metadata": {},
   "outputs": [
    {
     "data": {
      "text/plain": [
       "3"
      ]
     },
     "execution_count": 21,
     "metadata": {},
     "output_type": "execute_result"
    }
   ],
   "source": [
    "lines=txt.split(\".\")\n",
    "len(txt.split(\".\"))"
   ]
  },
  {
   "cell_type": "code",
   "execution_count": 22,
   "id": "0cf49e02-1839-4903-bd62-3c65f2065f50",
   "metadata": {},
   "outputs": [
    {
     "data": {
      "text/plain": [
       "2"
      ]
     },
     "execution_count": 22,
     "metadata": {},
     "output_type": "execute_result"
    }
   ],
   "source": [
    "len(lines[:-1])"
   ]
  },
  {
   "cell_type": "markdown",
   "id": "6e105a11-c75c-465a-9579-7d513c0f66f4",
   "metadata": {},
   "source": [
    "# Words"
   ]
  },
  {
   "cell_type": "code",
   "execution_count": 23,
   "id": "ad54917d-eb51-4050-adbd-4ff0c3584680",
   "metadata": {},
   "outputs": [
    {
     "data": {
      "text/plain": [
       "['Hello',\n",
       " 'Manya\\n\\nI',\n",
       " 'am',\n",
       " '20',\n",
       " 'years',\n",
       " 'old.\\n\\nI',\n",
       " 'am',\n",
       " 'studying',\n",
       " 'data',\n",
       " 'science',\n",
       " 'course',\n",
       " 'from',\n",
       " 'gfg.']"
      ]
     },
     "execution_count": 23,
     "metadata": {},
     "output_type": "execute_result"
    }
   ],
   "source": [
    "words=txt.split(\" \")\n",
    "words"
   ]
  },
  {
   "cell_type": "code",
   "execution_count": 24,
   "id": "bb529624-3493-4586-9d2c-ab167d5db026",
   "metadata": {},
   "outputs": [
    {
     "data": {
      "text/plain": [
       "13"
      ]
     },
     "execution_count": 24,
     "metadata": {},
     "output_type": "execute_result"
    }
   ],
   "source": [
    "len(words)"
   ]
  },
  {
   "cell_type": "code",
   "execution_count": 26,
   "id": "04e48989-bc19-4485-b942-b7f5cf118d51",
   "metadata": {},
   "outputs": [],
   "source": [
    "for i in range(7,21):\n",
    "    txt=txt.replace(str(i),\"\")"
   ]
  },
  {
   "cell_type": "code",
   "execution_count": 27,
   "id": "4fb70635-cd3a-4df9-a683-6066307fd551",
   "metadata": {},
   "outputs": [
    {
     "name": "stdout",
     "output_type": "stream",
     "text": [
      "Hello Manya\n",
      "\n",
      "I am  years old.\n",
      "\n",
      "I am studying data science course from gfg.\n"
     ]
    }
   ],
   "source": [
    "print(txt)"
   ]
  },
  {
   "cell_type": "code",
   "execution_count": null,
   "id": "652e1559-681f-49f5-81ff-9865e354a136",
   "metadata": {},
   "outputs": [],
   "source": []
  }
 ],
 "metadata": {
  "kernelspec": {
   "display_name": "Python 3 (ipykernel)",
   "language": "python",
   "name": "python3"
  },
  "language_info": {
   "codemirror_mode": {
    "name": "ipython",
    "version": 3
   },
   "file_extension": ".py",
   "mimetype": "text/x-python",
   "name": "python",
   "nbconvert_exporter": "python",
   "pygments_lexer": "ipython3",
   "version": "3.11.7"
  }
 },
 "nbformat": 4,
 "nbformat_minor": 5
}
