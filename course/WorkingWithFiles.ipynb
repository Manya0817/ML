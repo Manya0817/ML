{
 "cells": [
  {
   "cell_type": "code",
   "execution_count": 1,
   "id": "78157376-43a6-4dd0-a183-166a4fda75f6",
   "metadata": {},
   "outputs": [],
   "source": [
    "import numpy as np"
   ]
  },
  {
   "cell_type": "markdown",
   "id": "dde17ba3-590a-4329-a44c-8310fcddf9ec",
   "metadata": {},
   "source": [
    "# 1. Saving data in a text file"
   ]
  },
  {
   "cell_type": "code",
   "execution_count": 5,
   "id": "6c400ba3-4ea3-4ddd-86bb-e3ce301675d2",
   "metadata": {},
   "outputs": [],
   "source": [
    "arr=np.array([[1,2,3],[4,5,6]])\n",
    "np.savetxt('data.txt',arr)"
   ]
  },
  {
   "cell_type": "markdown",
   "id": "83650f24-9d32-4ea2-a811-460af010dfde",
   "metadata": {},
   "source": [
    "# 2. npY file"
   ]
  },
  {
   "cell_type": "code",
   "execution_count": 7,
   "id": "ed09194d-1cd4-4dfc-aab0-0b1a7df72ac6",
   "metadata": {},
   "outputs": [],
   "source": [
    "arr=np.array([[1,2,3],[4,5,6]])\n",
    "np.save('data.npy',arr)\n",
    "# 'Ashish,Jangra,25,Mentor,29/10/1998'.split(',')"
   ]
  },
  {
   "cell_type": "markdown",
   "id": "79c83245-c4a1-4d19-8969-93254d66df87",
   "metadata": {},
   "source": [
    "# 3. csv"
   ]
  },
  {
   "cell_type": "code",
   "execution_count": 11,
   "id": "3ff616cd-2b97-475a-90f1-45d66195b402",
   "metadata": {},
   "outputs": [],
   "source": [
    "arr=np.array([[1,2,3],[4,5,6]])\n",
    "np.savetxt('data.csv',arr,delimiter=',',header='a,b,c')"
   ]
  },
  {
   "cell_type": "markdown",
   "id": "2ad21c61-0994-434d-bbcf-8141c70090bc",
   "metadata": {},
   "source": [
    "# 4. json"
   ]
  },
  {
   "cell_type": "code",
   "execution_count": 13,
   "id": "b7c019b0-c3ba-4377-882f-bb6882767484",
   "metadata": {},
   "outputs": [],
   "source": [
    "arr=np.array([[1,2,3],[4,5,6]])\n",
    "np.savetxt('data.json',arr,delimiter=',',header='{\"data\":[',footer=']}')\n"
   ]
  },
  {
   "cell_type": "markdown",
   "id": "d3aaa1e7-3e77-40d1-a7fb-16db67092a74",
   "metadata": {},
   "source": [
    "# 5. yaml"
   ]
  },
  {
   "cell_type": "code",
   "execution_count": 14,
   "id": "b481fe82-f3fb-44ac-b4a3-9306fa5b4b1c",
   "metadata": {},
   "outputs": [],
   "source": [
    "arr=np.array([[1,2,3],[4,5,6]])\n",
    "np.savetxt('data.yaml',arr,delimiter=',',header='-data:')"
   ]
  },
  {
   "cell_type": "code",
   "execution_count": null,
   "id": "530cdb84-1e8f-4ca7-88e0-f4125a52dfc5",
   "metadata": {},
   "outputs": [],
   "source": []
  }
 ],
 "metadata": {
  "kernelspec": {
   "display_name": "Python 3 (ipykernel)",
   "language": "python",
   "name": "python3"
  },
  "language_info": {
   "codemirror_mode": {
    "name": "ipython",
    "version": 3
   },
   "file_extension": ".py",
   "mimetype": "text/x-python",
   "name": "python",
   "nbconvert_exporter": "python",
   "pygments_lexer": "ipython3",
   "version": "3.11.7"
  }
 },
 "nbformat": 4,
 "nbformat_minor": 5
}
